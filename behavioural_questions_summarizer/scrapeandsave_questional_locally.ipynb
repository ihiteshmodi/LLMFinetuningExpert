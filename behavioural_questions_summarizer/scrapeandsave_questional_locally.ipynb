{
 "cells": [
  {
   "cell_type": "code",
   "execution_count": null,
   "id": "ee232837",
   "metadata": {},
   "outputs": [],
   "source": [
    "pip install beautifulsoup4"
   ]
  },
  {
   "cell_type": "code",
   "execution_count": 12,
   "id": "47c274c3",
   "metadata": {},
   "outputs": [],
   "source": [
    "import requests\n",
    "from bs4 import BeautifulSoup\n",
    "from langchain.llms import Ollama\n",
    "import json\n",
    "import time\n",
    "import tqdm"
   ]
  },
  {
   "cell_type": "code",
   "execution_count": null,
   "id": "77ea9f6c",
   "metadata": {},
   "outputs": [
    {
     "data": {
      "text/plain": [
       "['Why do you want to work for X company?',\n",
       " 'Why do you want to leave your current/last company?',\n",
       " 'What are you looking for in your next role?',\n",
       " 'What project are you currently working on?',\n",
       " 'What is the most challenging aspect of your current project?',\n",
       " 'What was the most difficult bug that you fixed in the past 6 months?',\n",
       " 'What are you excited about?',\n",
       " 'What frustrates you?',\n",
       " 'Imagine it is your first day here at the company. What do you want to work on? What features would you improve on?',\n",
       " \"What are the most interesting projects you have worked on and how might they be relevant to this company's environment?\"]"
      ]
     },
     "execution_count": 2,
     "metadata": {},
     "output_type": "execute_result"
    }
   ],
   "source": [
    "url = \"https://www.techinterviewhandbook.org/behavioral-interview-questions/\"\n",
    "response = requests.get(url)\n",
    "soup = BeautifulSoup(response.text, \"html.parser\")\n",
    "\n",
    "questions = []\n",
    "for li in soup.find_all(\"li\"):\n",
    "    text = li.get_text(strip=True)\n",
    "    if text.endswith(\"?\"):\n",
    "        questions.append(text)"
   ]
  },
  {
   "cell_type": "code",
   "execution_count": 18,
   "id": "b08c123b",
   "metadata": {},
   "outputs": [
    {
     "name": "stdout",
     "output_type": "stream",
     "text": [
      "Saved questions to behavioral_questions.json\n"
     ]
    }
   ],
   "source": [
    "with open(\"behavioral_questions.json\", \"w\", encoding=\"utf-8\") as f:\n",
    "    json.dump(questions, f, ensure_ascii=False, indent=2)\n",
    "\n",
    "print(\"Saved questions to behavioral_questions.json\")"
   ]
  }
 ],
 "metadata": {
  "kernelspec": {
   "display_name": "finetunedexpert",
   "language": "python",
   "name": "python3"
  },
  "language_info": {
   "codemirror_mode": {
    "name": "ipython",
    "version": 3
   },
   "file_extension": ".py",
   "mimetype": "text/x-python",
   "name": "python",
   "nbconvert_exporter": "python",
   "pygments_lexer": "ipython3",
   "version": "3.10.11"
  }
 },
 "nbformat": 4,
 "nbformat_minor": 5
}
