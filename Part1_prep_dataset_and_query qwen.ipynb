{
 "cells": [
  {
   "cell_type": "code",
   "execution_count": null,
   "id": "92de6a0b",
   "metadata": {},
   "outputs": [],
   "source": [
    "# #Disable SSL check\n",
    "# import ssl\n",
    "# ssl._create_default_https_context = ssl._create_unverified_context"
   ]
  },
  {
   "cell_type": "code",
   "execution_count": null,
   "id": "c1c7770c",
   "metadata": {},
   "outputs": [],
   "source": [
    "#For huggingface embeddings, run without this comment in cell\n",
    "pip install sentence-transformers"
   ]
  },
  {
   "cell_type": "code",
   "execution_count": null,
   "id": "214a4424",
   "metadata": {},
   "outputs": [
    {
     "name": "stderr",
     "output_type": "stream",
     "text": [
      "huggingface/tokenizers: The current process just got forked, after parallelism has already been used. Disabling parallelism to avoid deadlocks...\n",
      "To disable this warning, you can either:\n",
      "\t- Avoid using `tokenizers` before the fork if possible\n",
      "\t- Explicitly set the environment variable TOKENIZERS_PARALLELISM=(true | false)\n"
     ]
    },
    {
     "name": "stdout",
     "output_type": "stream",
     "text": [
      "Collecting faiss-cpu\n",
      "  Downloading faiss_cpu-1.11.0-cp310-cp310-macosx_14_0_arm64.whl.metadata (4.8 kB)\n",
      "Requirement already satisfied: numpy<3.0,>=1.25.0 in ./finetunedexpert/lib/python3.10/site-packages (from faiss-cpu) (1.26.4)\n",
      "Requirement already satisfied: packaging in ./finetunedexpert/lib/python3.10/site-packages (from faiss-cpu) (23.2)\n",
      "Downloading faiss_cpu-1.11.0-cp310-cp310-macosx_14_0_arm64.whl (3.3 MB)\n",
      "\u001b[2K   \u001b[90m━━━━━━━━━━━━━━━━━━━━━━━━━━━━━━━━━━━━━━━━\u001b[0m \u001b[32m3.3/3.3 MB\u001b[0m \u001b[31m1.2 MB/s\u001b[0m eta \u001b[36m0:00:00\u001b[0ma \u001b[36m0:00:01\u001b[0m\n",
      "\u001b[?25hInstalling collected packages: faiss-cpu\n",
      "Successfully installed faiss-cpu-1.11.0\n",
      "Note: you may need to restart the kernel to use updated packages.\n"
     ]
    }
   ],
   "source": [
    "#Was not originally included\n",
    "pip install faiss-cpu"
   ]
  },
  {
   "cell_type": "code",
   "execution_count": 1,
   "id": "42658034",
   "metadata": {},
   "outputs": [],
   "source": [
    "from langchain_community.document_loaders import YoutubeLoader\n",
    "from langchain.text_splitter import RecursiveCharacterTextSplitter\n",
    "from langchain.llms import Ollama\n",
    "from langchain.schema import Document\n",
    "import json\n",
    "from langchain.vectorstores import FAISS\n",
    "from langchain.embeddings import HuggingFaceEmbeddings\n",
    "from langchain.chains import RetrievalQA\n"
   ]
  },
  {
   "cell_type": "code",
   "execution_count": 2,
   "id": "719eb482",
   "metadata": {},
   "outputs": [],
   "source": [
    "loader = YoutubeLoader.from_youtube_url(\n",
    "    \"https://www.youtube.com/watch?v=KhFlD54nQrY&t=1205s\", add_video_info=False\n",
    ")"
   ]
  },
  {
   "cell_type": "code",
   "execution_count": 3,
   "id": "7ead6e32",
   "metadata": {},
   "outputs": [],
   "source": [
    "youtube_transcript = loader.load()"
   ]
  },
  {
   "cell_type": "code",
   "execution_count": 4,
   "id": "88f5936c",
   "metadata": {},
   "outputs": [],
   "source": [
    "def split_pages(pages):\n",
    "    text_splitter = RecursiveCharacterTextSplitter(\n",
    "    chunk_size=2000,\n",
    "    chunk_overlap=300,\n",
    "    separators=[\"\\n\\n\", \"\\n\", \" \", \"\"]\n",
    "    )\n",
    "\n",
    "    docs = text_splitter.split_documents(pages)\n",
    "    return docs"
   ]
  },
  {
   "cell_type": "code",
   "execution_count": 5,
   "id": "bc497556",
   "metadata": {},
   "outputs": [],
   "source": [
    "pages = split_pages(youtube_transcript)"
   ]
  },
  {
   "cell_type": "code",
   "execution_count": 6,
   "id": "a6dc38d4",
   "metadata": {},
   "outputs": [
    {
     "data": {
      "text/plain": [
       "[Document(page_content=\"I've been in business for 13 years I've sold nine companies my last company I sold for 46.2 million I own acquisition. comom which right now does about $17 million a month across our portfolio I'm going to compress 13 years of brutal business truths and lessons into this one video brutal business truth number one sell to rich people until you have the money to sell all the poor people the middle is where you get killed Elon said you can either do a lot of good for a small amount of people or a little good for a large amount of people and I will tell you personally it's way hard to do a little good for a lot of people than a lot of good for a small amount of people there is a reason that Tesla started at the top they started only selling to rich people they had the Roadster which was $250,000 and so they sold those and then he was able to go down Market one and sell $100,000 cars to just upper Ash line of society the wealthy and then after that he made the X which is a little bit cheaper than that and then underneath of that he made the model 3 which was going to be the mass model right and each time it was significantly harder to do the one before because if if you want to sell based on value in terms of low cost you need to build the infrastructure for huge amounts of demand because the only way that you make money selling to poor people is selling tons and tons and tons of them look at Walmart look at Amazon these are businesses that were built for volume day one and they win on efficiency that was the whole point Amazon he wanted to have the best selection and the lowest prices Walmart everyday low prices they want they win on efficiencies like they all fly coach they use fold out cheairs they drink out of paper cups they purposely breed the culture of efficiency because it's the only way that you can win if you sell to poor people and I say poor people to be hyperbolic in terms of my language so that it drives the point home obviously I buy from Amazon but the\", metadata={'source': 'KhFlD54nQrY'}),\n",
       " Document(page_content=\"use fold out cheairs they drink out of paper cups they purposely breed the culture of efficiency because it's the only way that you can win if you sell to poor people and I say poor people to be hyperbolic in terms of my language so that it drives the point home obviously I buy from Amazon but the point is is that the strategy is based on volume and you've probably heard some of my other tweets around this which is solve rich people problems they pay better or if you solve rich people problems you get to charge rich people prices this is what I think the key Insight is is that to someone who only has $11,000 when they pay you $100 they pay you 10% of their net worth their expectations of what they're going to get for that $100 is the same as a rich person giving you 10 million of their $100 million it would be gigantic right in terms of their expectations but getting a rich person to give you $100 they might have you notice and so the thing is is that it's actually easier in some ways to solve rich people problems because they're willing to pay more in an absolute sense for lower relative value and so with that extra profit or gross margin you can absolutely overd deliver for them and still make money and not have to learn all these things with infrastructure so for example if I wanted to start a bank I would have to have $25 to $100 million to start it up but if you do that then you have to build the infrastructure that you can handle money for zillions and zillions and zillions of people a very hard business to get into and so the idea is that you want to sell at least this is my belief is that you want to sell premium you want to sell s to wealthy people you want to sell to a niche person that you can do a lot of good for in a very small slice because you don't have to compete against everyone you can have inefficiencies and still make money without having to have tremendous infrastructure and skill around building it once you make a ton of money doing that you\", metadata={'source': 'KhFlD54nQrY'}),\n",
       " Document(page_content=\"to a niche person that you can do a lot of good for in a very small slice because you don't have to compete against everyone you can have inefficiencies and still make money without having to have tremendous infrastructure and skill around building it once you make a ton of money doing that you can obviously just do more of that which big fan or you say you know what the next thing I do I want to do for zillions and zillions of people and so then you build a business like a Netflix that think about how insane Netflix is just as a concept you pay $13 or $15 a month or whatever it is now and they create movies and shows and they spend millions of dollars and they sign Comedians and they've got all these shows that are streaming and you pay $14 a month it's absurd think about if you were said hey Mom and Dad I want to start this Video subscription and I'm going to just pay millions of dollars to get all these shows and movies made for us and I'm just going to charge 14 bucks it would be absurd that's how much value you have to provide to someone who doesn't have money to capture huge slices of the market how are you going to beat Prime $99 a year or 129 a year whatever it is now right and with prime you get basically all Netflix with Prime video you also have next day shipping same day shipping with anything that you want to buy 99 bucks a year $129 a year if you build to sell to the masses you need to build like you're going to sell to the masses and you're usually going to have to put a ton of money in for a long period of time because you have to have that infrastructure upfront to deal with that volume to have such a crazy value discrepancy that someone who has no money still never wants to cancel that's the key whereas if you go to wealthier people you can get a premium you can have five clients that all pay you $5,000 a month and make an amazing income and have the resources to actually do a good job and hire a couple people to help you out who are competent and\", metadata={'source': 'KhFlD54nQrY'}),\n",
       " Document(page_content=\"still never wants to cancel that's the key whereas if you go to wealthier people you can get a premium you can have five clients that all pay you $5,000 a month and make an amazing income and have the resources to actually do a good job and hire a couple people to help you out who are competent and you can do that when you charge more money and those people are not the ones who are like and everybody's hurt seen this me where the $50 month customer is like hey so for this $50 a month what am I going to get now we make fun of that that's the reality of if you're taking 5% of someone's paycheck it means a lot to them whereas if you're going to somebody who's making a million a month and they pay you five grand if they get one good thing a year they're stoked and they're like oh yeah I sent the wire did you get it like the difference between working with somebody who's on the lower end versus the higher end and so being very clear about who you serve not not serving other people going down Market only if you have the infrastructure to support huge amounts of volume and usually the capital to front it either you build for volume day one and win on efficiency like Amazon or Walmart or you build for a premium which means you Niche down and you completely solve problems for people so you completely solve a problem in a very narrow Niche and so let me give you a completely polar opposite examples here which I literally live on both sides of the spectrum on one side acquisition. comom is my premium brand right this is the brand that we do deals with this is where we have hundred million companies and stuff that we invest in that we own in right that's my family office and we do one or two deals a year just to being really real we make very rich people way wealthier right that's what I do there so someone comes in is already worth 50 million bucks and we're like cool how do we get to 250 and that's what we invest in that's what we we scale the company on the Other Extreme\", metadata={'source': 'KhFlD54nQrY'}),\n",
       " Document(page_content=\"one or two deals a year just to being really real we make very rich people way wealthier right that's what I do there so someone comes in is already worth 50 million bucks and we're like cool how do we get to 250 and that's what we invest in that's what we we scale the company on the Other Extreme we've got school so school is for everyone who's starting out now School took 5 years to get to the level of product that it is now and millions and tens of millions of dollars of development where it lost money the entire time and still loses money right now in order to create such an absurd value for the 99 bucks a month or whatever it is because we know that that $99 a month for somebody who's trying to start their business that's the entirety of their business budget and so we have to solve all of the business problems that those people have at that level and so these are two completely this I mean honestly the most polar extremes of value Creation in terms of who we're selling to or who we advertise to and who we're attracting and how we help them and so there's no coincidence that I did acquisition. comom before investing in being a co-owner of school because I had to make enough money to be able to afford to sell to people who don't have much to be able to to help build the infrastructure and invest millions of dollars to build that so that we could accommodate millions and millions of users right now we have many millions of users on the the platform if you are confused about how to sell rich people stuff first off the easiest hack for selling a rich people is do what somebody else is doing that sells to rich people and do it in half the time and charge twice the price number one rich people pay for time Above All Else But if we look at the value equation you've got the outcom so you got to make sure they want the outcome that you're promising and you got the three other variables you've got risk How likely is it that they're going to get what they want when they\", metadata={'source': 'KhFlD54nQrY'})]"
      ]
     },
     "execution_count": 6,
     "metadata": {},
     "output_type": "execute_result"
    }
   ],
   "source": [
    "pages[0:5]"
   ]
  },
  {
   "cell_type": "code",
   "execution_count": 7,
   "id": "223dd136",
   "metadata": {},
   "outputs": [],
   "source": [
    "llm = Ollama(model=\"qwen2.5-coder:7b\")"
   ]
  },
  {
   "cell_type": "code",
   "execution_count": 8,
   "id": "7abc8c5c",
   "metadata": {},
   "outputs": [],
   "source": [
    "def local_llm(prompt: str, llm) -> str:\n",
    "    \"\"\"\n",
    "    Sends a prompt to the LangChain Ollama LLM instance and returns the response.\n",
    "    \"\"\"\n",
    "    try:\n",
    "        return llm.invoke(prompt).strip()\n",
    "    except Exception as e:\n",
    "        print(\"Error invoking model:\", e)\n",
    "        return \"\"\n"
   ]
  },
  {
   "cell_type": "code",
   "execution_count": 9,
   "id": "2d352d03",
   "metadata": {},
   "outputs": [],
   "source": [
    "def process_chunk_to_alpaca(doc: Document, llm) -> dict:\n",
    "    # Extract metadata from the LangChain Document\n",
    "    source_name = doc.metadata.get(\"source\", \"Unknown Name\")\n",
    "\n",
    "    # Inject metadata into prompt\n",
    "    instruction_with_metadata = f\"\"\"\n",
    "You are a business assistant analyzing raw business content from the following source:\n",
    "SOURCE NAME: {source_name}\n",
    "\n",
    "Your task is to extract the following from the provided transcript:\n",
    "1. Frameworks (e.g., naming, advertising, validation models).\n",
    "2. Bullet points for key ideas or steps.\n",
    "3. Q&A (any implied or stated questions with answers).\n",
    "4. Case Examples or stories.\n",
    "5. Copywriting formulas (AIDA, PAS, etc.)\n",
    "6. Classify this content into high-level topics: e.g., Naming, Ads, Psychology, Copywriting.\n",
    "7. Convert suitable content into a step-by-step guide.\n",
    "\n",
    "Return your output in clearly labeled sections, and only include sections with relevant content. Do not include a preamble.\n",
    "\"\"\".strip()\n",
    "\n",
    "    prompt = f\"{instruction_with_metadata}\\n\\n{doc.page_content.strip()}\"\n",
    "    response = local_llm(prompt, llm)\n",
    "\n",
    "    return {\n",
    "        \"instruction\": instruction_with_metadata,\n",
    "        \"input\": doc.page_content.strip(),\n",
    "        \"output\": response,\n",
    "        \"metadata\": doc.metadata\n",
    "    }\n"
   ]
  },
  {
   "cell_type": "code",
   "execution_count": 10,
   "id": "ec2793c1",
   "metadata": {},
   "outputs": [],
   "source": [
    "alpaca_data = []\n",
    "\n",
    "for doc in pages[0:5]:  # each doc is a langchain Document\n",
    "    alpaca_entry = process_chunk_to_alpaca(doc, llm)\n",
    "    alpaca_data.append(alpaca_entry)"
   ]
  },
  {
   "cell_type": "code",
   "execution_count": 11,
   "id": "71f66dec",
   "metadata": {},
   "outputs": [
    {
     "data": {
      "text/plain": [
       "[{'instruction': 'You are a business assistant analyzing raw business content from the following source:\\nSOURCE NAME: KhFlD54nQrY\\n\\nYour task is to extract the following from the provided transcript:\\n1. Frameworks (e.g., naming, advertising, validation models).\\n2. Bullet points for key ideas or steps.\\n3. Q&A (any implied or stated questions with answers).\\n4. Case Examples or stories.\\n5. Copywriting formulas (AIDA, PAS, etc.)\\n6. Classify this content into high-level topics: e.g., Naming, Ads, Psychology, Copywriting.\\n7. Convert suitable content into a step-by-step guide.\\n\\nReturn your output in clearly labeled sections, and only include sections with relevant content. Do not include a preamble.',\n",
       "  'input': \"I've been in business for 13 years I've sold nine companies my last company I sold for 46.2 million I own acquisition. comom which right now does about $17 million a month across our portfolio I'm going to compress 13 years of brutal business truths and lessons into this one video brutal business truth number one sell to rich people until you have the money to sell all the poor people the middle is where you get killed Elon said you can either do a lot of good for a small amount of people or a little good for a large amount of people and I will tell you personally it's way hard to do a little good for a lot of people than a lot of good for a small amount of people there is a reason that Tesla started at the top they started only selling to rich people they had the Roadster which was $250,000 and so they sold those and then he was able to go down Market one and sell $100,000 cars to just upper Ash line of society the wealthy and then after that he made the X which is a little bit cheaper than that and then underneath of that he made the model 3 which was going to be the mass model right and each time it was significantly harder to do the one before because if if you want to sell based on value in terms of low cost you need to build the infrastructure for huge amounts of demand because the only way that you make money selling to poor people is selling tons and tons and tons of them look at Walmart look at Amazon these are businesses that were built for volume day one and they win on efficiency that was the whole point Amazon he wanted to have the best selection and the lowest prices Walmart everyday low prices they want they win on efficiencies like they all fly coach they use fold out cheairs they drink out of paper cups they purposely breed the culture of efficiency because it's the only way that you can win if you sell to poor people and I say poor people to be hyperbolic in terms of my language so that it drives the point home obviously I buy from Amazon but the\",\n",
       "  'output': \"### Frameworks:\\n1. **Target Audience**: Selling to rich people first to establish a strong business foundation, then moving downmarket.\\n2. **Validation Model**: Selling higher-end products before scaling down to mass-market products.\\n\\n### Key Ideas or Steps:\\n1. Start by selling to the wealthy and work your way down the market.\\n2. Begin with high-value products that require significant investment.\\n3. Scale down to cheaper products as infrastructure for high-volume sales becomes feasible.\\n4. Focus on efficiency and volume to win in the mass market.\\n5. Emphasize value and low prices to attract a broader audience.\\n\\n### Q&A:\\n1. **Q**: Why is it harder to sell to poor people than rich people?\\n   **A**: Selling to poor people requires selling in massive quantities, which necessitates high-volume efficiency and infrastructure. This is challenging compared to selling fewer but higher-value products.\\n   \\n2. **Q**: What made Tesla successful?\\n   **A**: Tesla started by selling luxury cars (Roadster) to the wealthy before entering mass markets with cheaper models.\\n\\n### Case Examples or Stories:\\n1. **Example**: Tesla's strategy of starting with high-end products (Roadster, Model S) and then scaling down to more affordable models (Model 3) has been successful in establishing a strong brand and customer base.\\n   \\n2. **Story**: Walmart and Amazon both started with the goal of providing efficient, low-cost solutions that attracted a large customer base.\\n\\n### Copywriting Formulas:\\n1. **AIDA (Attention, Interest, Desire, Action)**: Highlight high-value products first to attract attention, then emphasize value and efficiency for broader appeal.\\n   \\n2. **PAS (Problem-Agitate-Solve)**: Present the problem of selling to poor people, agitate by highlighting the challenges, and solve with a strategy that starts with luxury products before scaling down.\\n\\n### High-Level Topics:\\n1. Naming\\n2. Ads\\n3. Psychology\\n4. Copywriting\\n\\n### Step-by-Step Guide:\\n\\n#### Step 1: Define Your Target Market\\nIdentify who your primary customers will be. Start by focusing on the wealthy and high-income individuals.\\n\\n#### Step 2: Develop High-Value Products\\nCreate products that appeal to your target market. Ensure these are premium, high-quality items that command a higher price point.\\n\\n#### Step 3: Establish Your Brand Identity\\nDevelop a strong brand identity that resonates with your initial customers. Use marketing strategies that highlight the exclusivity and value of your products.\\n\\n#### Step 4: Scale Downmarket\\nOnce you've built a solid customer base, begin to introduce lower-cost, yet still high-quality products. The goal is to create a broad customer base by offering volume discounts and emphasizing efficiency.\\n\\n#### Step 5: Emphasize Efficiency\\nFoster a culture of efficiency in your business operations. This will help in lowering costs while maintaining profitability, making it easier to sell at lower prices.\\n\\n#### Step 6: Focus on Value\\nContinuously communicate the value proposition of your products. Highlight how they provide better quality and performance than mass-market alternatives.\\n\\n#### Step 7: Leverage Marketing Strategies\\nUse a mix of marketing strategies to reach and convert potential customers. This may include direct sales, social media campaigns, influencer partnerships, and online advertising.\\n\\n#### Step 8: Monitor Performance and Adjust\\nRegularly review the performance of your products and adjust your strategy as needed. Look for feedback from customers and make changes to optimize your offerings and marketing efforts.\\n\\nBy following these steps, you can build a successful business that starts with high-end products and scales downmarket to capture a broader customer base.\",\n",
       "  'metadata': {'source': 'KhFlD54nQrY'}},\n",
       " {'instruction': 'You are a business assistant analyzing raw business content from the following source:\\nSOURCE NAME: KhFlD54nQrY\\n\\nYour task is to extract the following from the provided transcript:\\n1. Frameworks (e.g., naming, advertising, validation models).\\n2. Bullet points for key ideas or steps.\\n3. Q&A (any implied or stated questions with answers).\\n4. Case Examples or stories.\\n5. Copywriting formulas (AIDA, PAS, etc.)\\n6. Classify this content into high-level topics: e.g., Naming, Ads, Psychology, Copywriting.\\n7. Convert suitable content into a step-by-step guide.\\n\\nReturn your output in clearly labeled sections, and only include sections with relevant content. Do not include a preamble.',\n",
       "  'input': \"use fold out cheairs they drink out of paper cups they purposely breed the culture of efficiency because it's the only way that you can win if you sell to poor people and I say poor people to be hyperbolic in terms of my language so that it drives the point home obviously I buy from Amazon but the point is is that the strategy is based on volume and you've probably heard some of my other tweets around this which is solve rich people problems they pay better or if you solve rich people problems you get to charge rich people prices this is what I think the key Insight is is that to someone who only has $11,000 when they pay you $100 they pay you 10% of their net worth their expectations of what they're going to get for that $100 is the same as a rich person giving you 10 million of their $100 million it would be gigantic right in terms of their expectations but getting a rich person to give you $100 they might have you notice and so the thing is is that it's actually easier in some ways to solve rich people problems because they're willing to pay more in an absolute sense for lower relative value and so with that extra profit or gross margin you can absolutely overd deliver for them and still make money and not have to learn all these things with infrastructure so for example if I wanted to start a bank I would have to have $25 to $100 million to start it up but if you do that then you have to build the infrastructure that you can handle money for zillions and zillions and zillions of people a very hard business to get into and so the idea is that you want to sell at least this is my belief is that you want to sell premium you want to sell s to wealthy people you want to sell to a niche person that you can do a lot of good for in a very small slice because you don't have to compete against everyone you can have inefficiencies and still make money without having to have tremendous infrastructure and skill around building it once you make a ton of money doing that you\",\n",
       "  'output': \"### Frameworks\\n- Naming: The culture is named as efficient, driven by the goal of winning in a market dominated by poor people.\\n- Advertising: Focuses on solving problems for wealthy individuals at higher prices, exploiting their willingness to pay more despite lower relative value.\\n- Validation Models: Emphasizes solving rich people's problems as a means to charge them higher prices and achieve profitability.\\n\\n### Key Ideas or Steps\\n1. **Market Segmentation**: Target wealthy individuals with premium products/services.\\n2. **Efficiency Focus**: Cultivate an efficient culture within the business.\\n3. **High-Value Problems**: Identify and solve high-value problems for the target market.\\n4. **Volume-Based Strategy**: Base strategy on volume to achieve economies of scale.\\n5. **Price Optimization**: Charge higher prices for lower relative value to wealthy individuals.\\n\\n### Q&A\\n1. **Q: What is the key insight behind solving rich people's problems?**\\n   - A: Solving rich people's problems allows you to charge higher prices and achieve profitability because their expectations are based on their net worth, making it easier to deliver significantly more value than what they pay.\\n   \\n2. **Q: Why is selling premium products/services to wealthy individuals more beneficial than competing with everyone?**\\n   - A: You can have inefficiencies and still make money without the need for massive infrastructure and skills to handle a large customer base.\\n\\n### Case Examples or Stories\\n- **Example**: The speaker mentions starting a bank, which would require significant initial capital and complex infrastructure. Instead, by targeting wealthy individuals with premium services, the business could avoid these complexities and achieve profitability through higher prices and more efficient operations.\\n\\n### Copywriting Formulas (AIDA)\\n- **Attention**: Highlight the problem faced by wealthy individuals.\\n- **Interest**: Demonstrate how your product/service solves their problems at a higher price.\\n- **Desire**: Create a sense of urgency to act now.\\n- **Action**: Encourage the target audience to take action, such as choosing your premium service.\\n\\n### High-Level Topics\\n1. Naming\\n2. Ads\\n3. Psychology\\n4. Copywriting\\n\\n### Step-by-Step Guide\\n#### 1. Market Research\\nIdentify a niche market of wealthy individuals and understand their pain points and preferences.\\n\\n#### 2. Product/Service Development\\nDevelop a product or service that addresses these high-value problems efficiently and effectively.\\n\\n#### 3. Positioning\\nFrame the product/service as premium, highlighting its superior value relative to price.\\n\\n#### 4. Pricing Strategy\\nSet prices higher than what you would charge for similar products/services to lower-income individuals, reflecting their higher net worth.\\n\\n#### 5. Marketing Campaign\\nDevelop a marketing campaign that leverages the psychological appeal of solving high-value problems at higher prices.\\n   - **Attention**: Showcase specific problems faced by wealthy individuals.\\n   - **Interest**: Demonstrate how your product/service solves these problems more effectively and efficiently.\\n   - **Desire**: Create a sense of urgency to act now, offering limited-time discounts or exclusive access.\\n   - **Action**: Encourage the audience to take action by booking a consultation, subscribing to premium services, or making a purchase.\\n\\n#### 6. Customer Service\\nProvide exceptional customer service to ensure satisfaction and build loyalty among wealthy clients, which can drive repeat business and referrals.\",\n",
       "  'metadata': {'source': 'KhFlD54nQrY'}},\n",
       " {'instruction': 'You are a business assistant analyzing raw business content from the following source:\\nSOURCE NAME: KhFlD54nQrY\\n\\nYour task is to extract the following from the provided transcript:\\n1. Frameworks (e.g., naming, advertising, validation models).\\n2. Bullet points for key ideas or steps.\\n3. Q&A (any implied or stated questions with answers).\\n4. Case Examples or stories.\\n5. Copywriting formulas (AIDA, PAS, etc.)\\n6. Classify this content into high-level topics: e.g., Naming, Ads, Psychology, Copywriting.\\n7. Convert suitable content into a step-by-step guide.\\n\\nReturn your output in clearly labeled sections, and only include sections with relevant content. Do not include a preamble.',\n",
       "  'input': \"to a niche person that you can do a lot of good for in a very small slice because you don't have to compete against everyone you can have inefficiencies and still make money without having to have tremendous infrastructure and skill around building it once you make a ton of money doing that you can obviously just do more of that which big fan or you say you know what the next thing I do I want to do for zillions and zillions of people and so then you build a business like a Netflix that think about how insane Netflix is just as a concept you pay $13 or $15 a month or whatever it is now and they create movies and shows and they spend millions of dollars and they sign Comedians and they've got all these shows that are streaming and you pay $14 a month it's absurd think about if you were said hey Mom and Dad I want to start this Video subscription and I'm going to just pay millions of dollars to get all these shows and movies made for us and I'm just going to charge 14 bucks it would be absurd that's how much value you have to provide to someone who doesn't have money to capture huge slices of the market how are you going to beat Prime $99 a year or 129 a year whatever it is now right and with prime you get basically all Netflix with Prime video you also have next day shipping same day shipping with anything that you want to buy 99 bucks a year $129 a year if you build to sell to the masses you need to build like you're going to sell to the masses and you're usually going to have to put a ton of money in for a long period of time because you have to have that infrastructure upfront to deal with that volume to have such a crazy value discrepancy that someone who has no money still never wants to cancel that's the key whereas if you go to wealthier people you can get a premium you can have five clients that all pay you $5,000 a month and make an amazing income and have the resources to actually do a good job and hire a couple people to help you out who are competent and\",\n",
       "  'output': '### Frameworks\\n\\n1. **Naming Strategy**: Focus on creating a niche business where your product or service can capture a significant market share with minimal competition.\\n2. **Advertising Model**: Target cost-sensitive consumers with high-value propositions that offer unique benefits at a fraction of the typical costs.\\n3. **Validation Models**: Use data and case studies to demonstrate the value you provide to potential customers, especially those who might not have access to extensive resources.\\n\\n### Bullet Points\\n\\n1. **Niche Identification**: Identify a specific market or audience that can be effectively served with limited competition.\\n2. **Cost Efficiency**: Leverage low operational costs and economies of scale to make a profit without requiring significant upfront investments.\\n3. **High Value Proposition**: Offer a product or service at a fraction of the typical price, providing substantial value to customers.\\n4. **Target Wealthier Clients**: Once a niche is established, consider targeting wealthier individuals who can pay higher fees for premium services and more extensive resources.\\n5. **Resource Utilization**: Hire competent staff to handle increased demand, ensuring high-quality service without overwhelming your initial team.\\n\\n### Q&A\\n\\n1. **Q: How do you capture market share in a competitive niche?**\\n   A: By focusing on providing unique value at a lower price point, making it attractive for cost-sensitive consumers.\\n   \\n2. **Q: Why is building infrastructure upfront challenging?**\\n   A: It requires significant investment and time to handle large volumes of customers, which can limit immediate profitability.\\n\\n3. **Q: How do you differentiate from larger competitors like Netflix or Prime Video?**\\n   A: By offering a premium service at a lower price point and providing extensive content that is not available on those platforms.\\n\\n### Case Example\\n\\n1. **Example**: Suppose you create a platform for local artists to sell their digital artwork online at a fraction of the cost of commercial galleries. You offer a subscription model where customers pay a low monthly fee to access all the artwork, with a small commission on each sale. This niche allows you to capture a significant market share without competing directly with large art galleries.\\n   \\n### Copywriting Formulas\\n\\n1. **AIDA (Attention, Interest, Desire, Action)**: Start by highlighting how your product or service solves a problem or meets a need for the customer. Then, create interest by describing unique benefits. Next, evoke desire through emotional appeal, and finally encourage action with a call-to-action.\\n   \\n2. **PAS (Problem-Agitate-Solve)**: Identify the problem faced by customers, then present your product as the solution to their pain points. Finally, solve their problem with a compelling offer.\\n\\n### Classification\\n\\n- **High-level Topics**:\\n  - Naming\\n  - Ads\\n  - Psychology\\n  - Copywriting\\n\\n### Step-by-Step Guide\\n\\n#### Step 1: Identify Your Niche\\n1. Research and identify a specific market or audience that is underserved by existing products.\\n2. Conduct surveys or focus groups to understand the unique needs and pain points of this niche.\\n\\n#### Step 2: Develop Your Unique Value Proposition\\n1. Create a product or service that offers substantial value at a lower price point than competitors.\\n2. Clearly articulate how your offering solves problems for customers in your target market.\\n\\n#### Step 3: Build an Efficient Infrastructure\\n1. Minimize upfront costs by using cost-effective tools and platforms.\\n2. Automate repetitive tasks to reduce labor-intensive processes.\\n\\n#### Step 4: Launch Your Business\\n1. Create marketing materials that emphasize the unique benefits of your product or service.\\n2. Use social media, email campaigns, and targeted advertising to reach potential customers in your niche.\\n\\n#### Step 5: Optimize for Growth\\n1. Monitor customer feedback and analytics to identify areas for improvement.\\n2. Scale operations by hiring competent staff as demand increases.\\n\\n#### Step 6: Expand Your Offerings\\n1. Once your core business is successful, consider targeting wealthier clients with premium services.\\n2. Build a referral program to attract more customers and increase revenue.\\n\\nBy following these steps, you can create a niche business that provides significant value to cost-sensitive consumers and scales efficiently as your customer base grows.',\n",
       "  'metadata': {'source': 'KhFlD54nQrY'}},\n",
       " {'instruction': 'You are a business assistant analyzing raw business content from the following source:\\nSOURCE NAME: KhFlD54nQrY\\n\\nYour task is to extract the following from the provided transcript:\\n1. Frameworks (e.g., naming, advertising, validation models).\\n2. Bullet points for key ideas or steps.\\n3. Q&A (any implied or stated questions with answers).\\n4. Case Examples or stories.\\n5. Copywriting formulas (AIDA, PAS, etc.)\\n6. Classify this content into high-level topics: e.g., Naming, Ads, Psychology, Copywriting.\\n7. Convert suitable content into a step-by-step guide.\\n\\nReturn your output in clearly labeled sections, and only include sections with relevant content. Do not include a preamble.',\n",
       "  'input': \"still never wants to cancel that's the key whereas if you go to wealthier people you can get a premium you can have five clients that all pay you $5,000 a month and make an amazing income and have the resources to actually do a good job and hire a couple people to help you out who are competent and you can do that when you charge more money and those people are not the ones who are like and everybody's hurt seen this me where the $50 month customer is like hey so for this $50 a month what am I going to get now we make fun of that that's the reality of if you're taking 5% of someone's paycheck it means a lot to them whereas if you're going to somebody who's making a million a month and they pay you five grand if they get one good thing a year they're stoked and they're like oh yeah I sent the wire did you get it like the difference between working with somebody who's on the lower end versus the higher end and so being very clear about who you serve not not serving other people going down Market only if you have the infrastructure to support huge amounts of volume and usually the capital to front it either you build for volume day one and win on efficiency like Amazon or Walmart or you build for a premium which means you Niche down and you completely solve problems for people so you completely solve a problem in a very narrow Niche and so let me give you a completely polar opposite examples here which I literally live on both sides of the spectrum on one side acquisition. comom is my premium brand right this is the brand that we do deals with this is where we have hundred million companies and stuff that we invest in that we own in right that's my family office and we do one or two deals a year just to being really real we make very rich people way wealthier right that's what I do there so someone comes in is already worth 50 million bucks and we're like cool how do we get to 250 and that's what we invest in that's what we we scale the company on the Other Extreme\",\n",
       "  'output': \"### Frameworks:\\n1. **Customer Segmentation**\\n   - Wealthier individuals (premium pricing)\\n   - Lower-income individuals (affordable pricing)\\n\\n2. **Value Proposition**\\n   - High-value services for wealthier clients\\n   - Affordability for lower-income clients\\n\\n3. **Resource Allocation**\\n   - Niche focus with premium pricing\\n   - Volume-oriented business with affordable pricing\\n\\n### Bullet Points:\\n1. Wealthy customers can afford higher prices and receive top-notch service.\\n2. Lower-income customers appreciate affordable services, even if they only use them once a year.\\n3. High-value clients perceive lower prices differently than lower-income clients.\\n4. Premium pricing allows for high margins but requires the ability to support multiple clients simultaneously.\\n5. Affordable pricing enables niche-focused solutions that solve specific problems thoroughly.\\n\\n### Q&A:\\n1. **Q:** What is the key difference between working with low-end and high-end customers?\\n   **A:** Low-end customers might perceive a $50 monthly fee as expensive, whereas high-end customers would appreciate it if they get one good thing from you every year.\\n2. **Q:** How does premium pricing work for your business?\\n   **A:** Premium pricing allows you to scale the company by making wealthy individuals richer, even if you only do one or two deals a year.\\n3. **Q:** What is the challenge of affordable pricing?\\n   **A:** It requires building a niche focus and solving specific problems thoroughly for customers who might use your service once a year.\\n\\n### Case Examples:\\n1. **Acquisition.comom**: A premium brand that invests in a handful of high-value deals annually, scaling the company by making wealthy individuals richer.\\n2. **Lower-income clients**: Paying $50 a month to receive one good thing from you every year, which they perceive as valuable.\\n\\n### Copywriting Formulas:\\n- **AIDA (Attention, Interest, Desire, Action):** Highlight the problem and offer a solution that is highly desirable for your target audience.\\n- **PAS (Problem, Agitation, Solution):** Identify the problem faced by customers, create urgency or agitation, and then present the solution.\\n\\n### High-Level Topics:\\n1. **Customer Segmentation**\\n2. **Value Proposition**\\n3. **Resource Allocation**\\n\\n### Step-by-Step Guide:\\n1. **Identify Your Customer Base:**\\n   - Segment your market into high-end and low-end customers based on their income levels and purchasing power.\\n   \\n2. **Develop Value Propositions:**\\n   - For high-end customers, provide premium services that add significant value to their lives.\\n   - For low-end customers, offer affordable solutions that solve specific problems efficiently.\\n\\n3. **Allocate Resources Efficiently:**\\n   - Focus on niche marketing for lower-income customers to build a loyal customer base.\\n   - Invest in volume-oriented strategies if you have the capital and infrastructure to support it.\\n\\n4. **Communicate Clear Benefits:**\\n   - Use copywriting that highlights the specific benefits of your service or product.\\n   - Emphasize how the value proposition aligns with the customer's needs and financial situation.\\n\\n5. **Monitor and Adapt:**\\n   - Regularly assess the performance of both pricing strategies.\\n   - Be prepared to adapt based on market feedback and changing customer preferences.\",\n",
       "  'metadata': {'source': 'KhFlD54nQrY'}},\n",
       " {'instruction': 'You are a business assistant analyzing raw business content from the following source:\\nSOURCE NAME: KhFlD54nQrY\\n\\nYour task is to extract the following from the provided transcript:\\n1. Frameworks (e.g., naming, advertising, validation models).\\n2. Bullet points for key ideas or steps.\\n3. Q&A (any implied or stated questions with answers).\\n4. Case Examples or stories.\\n5. Copywriting formulas (AIDA, PAS, etc.)\\n6. Classify this content into high-level topics: e.g., Naming, Ads, Psychology, Copywriting.\\n7. Convert suitable content into a step-by-step guide.\\n\\nReturn your output in clearly labeled sections, and only include sections with relevant content. Do not include a preamble.',\n",
       "  'input': \"one or two deals a year just to being really real we make very rich people way wealthier right that's what I do there so someone comes in is already worth 50 million bucks and we're like cool how do we get to 250 and that's what we invest in that's what we we scale the company on the Other Extreme we've got school so school is for everyone who's starting out now School took 5 years to get to the level of product that it is now and millions and tens of millions of dollars of development where it lost money the entire time and still loses money right now in order to create such an absurd value for the 99 bucks a month or whatever it is because we know that that $99 a month for somebody who's trying to start their business that's the entirety of their business budget and so we have to solve all of the business problems that those people have at that level and so these are two completely this I mean honestly the most polar extremes of value Creation in terms of who we're selling to or who we advertise to and who we're attracting and how we help them and so there's no coincidence that I did acquisition. comom before investing in being a co-owner of school because I had to make enough money to be able to afford to sell to people who don't have much to be able to to help build the infrastructure and invest millions of dollars to build that so that we could accommodate millions and millions of users right now we have many millions of users on the the platform if you are confused about how to sell rich people stuff first off the easiest hack for selling a rich people is do what somebody else is doing that sells to rich people and do it in half the time and charge twice the price number one rich people pay for time Above All Else But if we look at the value equation you've got the outcom so you got to make sure they want the outcome that you're promising and you got the three other variables you've got risk How likely is it that they're going to get what they want when they\",\n",
       "  'output': \"**High-level Topics:**\\n- Naming\\n- Ads\\n- Psychology\\n- Copywriting\\n\\n---\\n\\n### Frameworks\\n1. **Naming**: The approach involves targeting two extreme segments of the market—rich individuals and first-time entrepreneurs. Rich individuals seek rapid wealth growth, while startup owners look for affordable solutions to their business problems.\\n2. **Advertising**: Emphasis on creating value at a low cost ($99/month) by addressing specific pain points of startup owners.\\n3. **Validation Models**: Successful acquisition of a company that already serves wealthy individuals and leveraging it to expand into new markets.\\n\\n### Key Ideas or Steps\\n- Selling to rich people: Focus on rapid wealth growth, using the strategy of existing successful companies in the space but offering it at half the time for twice the price.\\n- Targeting startup owners: Create value at an extremely low cost ($99/month) by solving their most pressing business problems.\\n- Value Creation:\\n  - Outcome: Ensure that potential customers want the desired outcome (e.g., wealth growth or business solutions).\\n  - Risk: Minimize risks associated with achieving the promised outcomes.\\n  - Effort: Offer solutions in half the time, reducing the customer's investment and risk.\\n\\n### Case Examples or Stories\\n- Example of scaling a company from zero to many millions of users.\\n- Story of creating School, a platform for first-time entrepreneurs, which took five years of development and millions of dollars to launch, despite ongoing losses.\\n\\n### Copywriting Formulas (AIDA)\\n1. **Attention**: Capture attention by highlighting the extreme value proposition.\\n2. **Interest**: Build interest in solving specific pain points of startup owners.\\n3. **Desire**: Create a strong desire for customers to take action.\\n4. **Action**: Provide clear, actionable steps for customers.\\n\\n### Step-by-Step Guide\\n1. **Identify Market Segments**:\\n   - Rich individuals seeking rapid wealth growth.\\n   - Startup owners needing affordable business solutions.\\n\\n2. **Develop Value Propositions**:\\n   - For rich individuals: Rapid wealth creation by scaling existing successful companies in the space but offering it at half the time for twice the price.\\n   - For startup owners: Affordable solutions to their most pressing business problems, available at an extremely low cost ($99/month).\\n\\n3. **Leverage Existing Assets**:\\n   - Acquire or partner with a company that already serves wealthy individuals to expand into new markets.\\n\\n4. **Value Creation Strategy**:\\n   - Ensure customers understand the desired outcome.\\n   - Minimize risks associated with achieving these outcomes.\\n   - Offer solutions in half the time, reducing customer investment and risk.\\n\\n5. **Marketing & Advertising**:\\n   - Use targeted advertising strategies to reach potential customers.\\n   - Highlight the value and affordability of your offerings.\\n\\n6. **Customer Acquisition & Onboarding**:\\n   - Develop a streamlined onboarding process to help customers understand and utilize your solutions effectively.\\n\\nBy following these steps, businesses can successfully target and serve both rich individuals and startup owners, creating significant value and growth opportunities in their respective markets.\",\n",
       "  'metadata': {'source': 'KhFlD54nQrY'}}]"
      ]
     },
     "execution_count": 11,
     "metadata": {},
     "output_type": "execute_result"
    }
   ],
   "source": [
    "alpaca_data"
   ]
  },
  {
   "cell_type": "code",
   "execution_count": 12,
   "id": "a89d6738",
   "metadata": {},
   "outputs": [],
   "source": [
    "def alpaca_to_documents(alpaca_data):\n",
    "    docs = []\n",
    "    for entry in alpaca_data:\n",
    "        metadata = {\n",
    "            \"instruction\": entry.get(\"instruction\", \"\"),\n",
    "            \"input\": entry.get(\"input\", \"\")\n",
    "        }\n",
    "        docs.append(Document(page_content=entry[\"output\"], metadata=metadata))\n",
    "    return docs"
   ]
  },
  {
   "cell_type": "code",
   "execution_count": 13,
   "id": "d8151a94",
   "metadata": {},
   "outputs": [
    {
     "name": "stderr",
     "output_type": "stream",
     "text": [
      "/Users/hitesh.modi/Desktop/Kinda Personal/LLM Finetuning Expert/finetunedexpert/lib/python3.10/site-packages/tqdm/auto.py:21: TqdmWarning: IProgress not found. Please update jupyter and ipywidgets. See https://ipywidgets.readthedocs.io/en/stable/user_install.html\n",
      "  from .autonotebook import tqdm as notebook_tqdm\n"
     ]
    }
   ],
   "source": [
    "embedding = HuggingFaceEmbeddings(\n",
    "    model_name=\"all-MiniLM-L6-v2\"\n",
    "    ) "
   ]
  },
  {
   "cell_type": "code",
   "execution_count": 14,
   "id": "3731082e",
   "metadata": {},
   "outputs": [],
   "source": [
    "embedding = embedding\n",
    "docs = alpaca_to_documents(alpaca_data)\n",
    "vectorstore = FAISS.from_documents(docs, embedding)"
   ]
  },
  {
   "cell_type": "code",
   "execution_count": 15,
   "id": "89654fb4",
   "metadata": {},
   "outputs": [],
   "source": [
    "qa_chain = RetrievalQA.from_chain_type(\n",
    "    llm=llm,\n",
    "    chain_type=\"stuff\",\n",
    "    retriever=vectorstore.as_retriever()\n",
    ")\n"
   ]
  },
  {
   "cell_type": "code",
   "execution_count": null,
   "id": "a543c2a8",
   "metadata": {},
   "outputs": [],
   "source": [
    "\"\"\"\n",
    "Qwen is slower than all, 2.3 mins.\n",
    "\"\"\""
   ]
  },
  {
   "cell_type": "code",
   "execution_count": 16,
   "id": "025c950d",
   "metadata": {},
   "outputs": [
    {
     "name": "stderr",
     "output_type": "stream",
     "text": [
      "/Users/hitesh.modi/Desktop/Kinda Personal/LLM Finetuning Expert/finetunedexpert/lib/python3.10/site-packages/langchain_core/_api/deprecation.py:119: LangChainDeprecationWarning: The method `Chain.run` was deprecated in langchain 0.1.0 and will be removed in 0.3.0. Use invoke instead.\n",
      "  warn_deprecated(\n"
     ]
    },
    {
     "name": "stdout",
     "output_type": "stream",
     "text": [
      "\n",
      "🔍 Answer from local model:\n",
      "You should target both rich people and other market segments. The strategy involves focusing on the wealthy first to establish a strong business foundation, then moving downmarket to capture a broader customer base at an affordable price point of $99/month. This approach allows you to leverage high-value products for initial profitability while scaling to reach more customers through efficient operations.\n"
     ]
    }
   ],
   "source": [
    "query = \"Should we target to sell to rich people or otheerwise?\"\n",
    "response = qa_chain.run(query)\n",
    "\n",
    "print(\"\\n🔍 Answer from local model:\")\n",
    "print(response)\n"
   ]
  },
  {
   "cell_type": "code",
   "execution_count": 17,
   "id": "c41a7b84",
   "metadata": {},
   "outputs": [
    {
     "name": "stdout",
     "output_type": "stream",
     "text": [
      "\n",
      "🔍 Answer from local model:\n",
      "Selling to the wealthy first means targeting individuals with higher income levels, typically those who have the financial capability to pay more for products or services. The goal is to establish a strong market presence and build a reputation for excellence in your industry. Once you've built a solid customer base among the rich, you can then start scaling down to lower-income customers by offering lower-priced alternatives that still provide value. This approach leverages the fact that wealthy individuals are often more willing to pay higher prices for premium products or services, allowing you to generate initial revenue and invest in infrastructure before moving into mass-market strategies.\n"
     ]
    }
   ],
   "source": [
    "query = \"What does it mean to sell to the rich until you can afoford to seel to the poor?\"\n",
    "response = qa_chain.run(query)\n",
    "\n",
    "print(\"\\n🔍 Answer from local model:\")\n",
    "print(response)\n"
   ]
  },
  {
   "cell_type": "code",
   "execution_count": null,
   "id": "f6c0753e",
   "metadata": {},
   "outputs": [],
   "source": [
    "# Save to .jsonl\n",
    "with open(\"alpaca_dataset.jsonl\", \"w\", encoding=\"utf-8\") as f:\n",
    "    for entry in alpaca_data:\n",
    "        f.write(json.dumps(entry, ensure_ascii=False) + \"\\n\")\n"
   ]
  }
 ],
 "metadata": {
  "kernelspec": {
   "display_name": "finetunedexpert",
   "language": "python",
   "name": "python3"
  },
  "language_info": {
   "codemirror_mode": {
    "name": "ipython",
    "version": 3
   },
   "file_extension": ".py",
   "mimetype": "text/x-python",
   "name": "python",
   "nbconvert_exporter": "python",
   "pygments_lexer": "ipython3",
   "version": "3.10.11"
  }
 },
 "nbformat": 4,
 "nbformat_minor": 5
}
