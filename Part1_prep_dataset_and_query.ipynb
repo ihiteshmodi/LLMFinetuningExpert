{
 "cells": [
  {
   "cell_type": "code",
   "execution_count": null,
   "id": "92de6a0b",
   "metadata": {},
   "outputs": [],
   "source": [
    "# #Disable SSL check\n",
    "# import ssl\n",
    "# ssl._create_default_https_context = ssl._create_unverified_context"
   ]
  },
  {
   "cell_type": "code",
   "execution_count": null,
   "id": "c1c7770c",
   "metadata": {},
   "outputs": [],
   "source": [
    "#For huggingface embeddings, run without this comment in cell\n",
    "pip install sentence-transformers"
   ]
  },
  {
   "cell_type": "code",
   "execution_count": null,
   "id": "214a4424",
   "metadata": {},
   "outputs": [
    {
     "name": "stderr",
     "output_type": "stream",
     "text": [
      "huggingface/tokenizers: The current process just got forked, after parallelism has already been used. Disabling parallelism to avoid deadlocks...\n",
      "To disable this warning, you can either:\n",
      "\t- Avoid using `tokenizers` before the fork if possible\n",
      "\t- Explicitly set the environment variable TOKENIZERS_PARALLELISM=(true | false)\n"
     ]
    },
    {
     "name": "stdout",
     "output_type": "stream",
     "text": [
      "Collecting faiss-cpu\n",
      "  Downloading faiss_cpu-1.11.0-cp310-cp310-macosx_14_0_arm64.whl.metadata (4.8 kB)\n",
      "Requirement already satisfied: numpy<3.0,>=1.25.0 in ./finetunedexpert/lib/python3.10/site-packages (from faiss-cpu) (1.26.4)\n",
      "Requirement already satisfied: packaging in ./finetunedexpert/lib/python3.10/site-packages (from faiss-cpu) (23.2)\n",
      "Downloading faiss_cpu-1.11.0-cp310-cp310-macosx_14_0_arm64.whl (3.3 MB)\n",
      "\u001b[2K   \u001b[90m━━━━━━━━━━━━━━━━━━━━━━━━━━━━━━━━━━━━━━━━\u001b[0m \u001b[32m3.3/3.3 MB\u001b[0m \u001b[31m1.2 MB/s\u001b[0m eta \u001b[36m0:00:00\u001b[0ma \u001b[36m0:00:01\u001b[0m\n",
      "\u001b[?25hInstalling collected packages: faiss-cpu\n",
      "Successfully installed faiss-cpu-1.11.0\n",
      "Note: you may need to restart the kernel to use updated packages.\n"
     ]
    }
   ],
   "source": [
    "#Was not originally included\n",
    "pip install faiss-cpu"
   ]
  },
  {
   "cell_type": "code",
   "execution_count": 1,
   "id": "42658034",
   "metadata": {},
   "outputs": [],
   "source": [
    "from langchain_community.document_loaders import YoutubeLoader\n",
    "from langchain.text_splitter import RecursiveCharacterTextSplitter\n",
    "from langchain.llms import Ollama\n",
    "from langchain.schema import Document\n",
    "import json\n",
    "from langchain.vectorstores import FAISS\n",
    "from langchain.embeddings import HuggingFaceEmbeddings\n",
    "from langchain.chains import RetrievalQA\n"
   ]
  },
  {
   "cell_type": "code",
   "execution_count": 2,
   "id": "719eb482",
   "metadata": {},
   "outputs": [],
   "source": [
    "loader = YoutubeLoader.from_youtube_url(\n",
    "    \"https://www.youtube.com/watch?v=KhFlD54nQrY&t=1205s\", add_video_info=False\n",
    ")"
   ]
  },
  {
   "cell_type": "code",
   "execution_count": 3,
   "id": "7ead6e32",
   "metadata": {},
   "outputs": [],
   "source": [
    "youtube_transcript = loader.load()"
   ]
  },
  {
   "cell_type": "code",
   "execution_count": 4,
   "id": "88f5936c",
   "metadata": {},
   "outputs": [],
   "source": [
    "def split_pages(pages):\n",
    "    text_splitter = RecursiveCharacterTextSplitter(\n",
    "    chunk_size=2000,\n",
    "    chunk_overlap=300,\n",
    "    separators=[\"\\n\\n\", \"\\n\", \" \", \"\"]\n",
    "    )\n",
    "\n",
    "    docs = text_splitter.split_documents(pages)\n",
    "    return docs"
   ]
  },
  {
   "cell_type": "code",
   "execution_count": 5,
   "id": "bc497556",
   "metadata": {},
   "outputs": [],
   "source": [
    "pages = split_pages(youtube_transcript)"
   ]
  },
  {
   "cell_type": "code",
   "execution_count": 6,
   "id": "a6dc38d4",
   "metadata": {},
   "outputs": [
    {
     "data": {
      "text/plain": [
       "[Document(page_content=\"I've been in business for 13 years I've sold nine companies my last company I sold for 46.2 million I own acquisition. comom which right now does about $17 million a month across our portfolio I'm going to compress 13 years of brutal business truths and lessons into this one video brutal business truth number one sell to rich people until you have the money to sell all the poor people the middle is where you get killed Elon said you can either do a lot of good for a small amount of people or a little good for a large amount of people and I will tell you personally it's way hard to do a little good for a lot of people than a lot of good for a small amount of people there is a reason that Tesla started at the top they started only selling to rich people they had the Roadster which was $250,000 and so they sold those and then he was able to go down Market one and sell $100,000 cars to just upper Ash line of society the wealthy and then after that he made the X which is a little bit cheaper than that and then underneath of that he made the model 3 which was going to be the mass model right and each time it was significantly harder to do the one before because if if you want to sell based on value in terms of low cost you need to build the infrastructure for huge amounts of demand because the only way that you make money selling to poor people is selling tons and tons and tons of them look at Walmart look at Amazon these are businesses that were built for volume day one and they win on efficiency that was the whole point Amazon he wanted to have the best selection and the lowest prices Walmart everyday low prices they want they win on efficiencies like they all fly coach they use fold out cheairs they drink out of paper cups they purposely breed the culture of efficiency because it's the only way that you can win if you sell to poor people and I say poor people to be hyperbolic in terms of my language so that it drives the point home obviously I buy from Amazon but the\", metadata={'source': 'KhFlD54nQrY'}),\n",
       " Document(page_content=\"use fold out cheairs they drink out of paper cups they purposely breed the culture of efficiency because it's the only way that you can win if you sell to poor people and I say poor people to be hyperbolic in terms of my language so that it drives the point home obviously I buy from Amazon but the point is is that the strategy is based on volume and you've probably heard some of my other tweets around this which is solve rich people problems they pay better or if you solve rich people problems you get to charge rich people prices this is what I think the key Insight is is that to someone who only has $11,000 when they pay you $100 they pay you 10% of their net worth their expectations of what they're going to get for that $100 is the same as a rich person giving you 10 million of their $100 million it would be gigantic right in terms of their expectations but getting a rich person to give you $100 they might have you notice and so the thing is is that it's actually easier in some ways to solve rich people problems because they're willing to pay more in an absolute sense for lower relative value and so with that extra profit or gross margin you can absolutely overd deliver for them and still make money and not have to learn all these things with infrastructure so for example if I wanted to start a bank I would have to have $25 to $100 million to start it up but if you do that then you have to build the infrastructure that you can handle money for zillions and zillions and zillions of people a very hard business to get into and so the idea is that you want to sell at least this is my belief is that you want to sell premium you want to sell s to wealthy people you want to sell to a niche person that you can do a lot of good for in a very small slice because you don't have to compete against everyone you can have inefficiencies and still make money without having to have tremendous infrastructure and skill around building it once you make a ton of money doing that you\", metadata={'source': 'KhFlD54nQrY'}),\n",
       " Document(page_content=\"to a niche person that you can do a lot of good for in a very small slice because you don't have to compete against everyone you can have inefficiencies and still make money without having to have tremendous infrastructure and skill around building it once you make a ton of money doing that you can obviously just do more of that which big fan or you say you know what the next thing I do I want to do for zillions and zillions of people and so then you build a business like a Netflix that think about how insane Netflix is just as a concept you pay $13 or $15 a month or whatever it is now and they create movies and shows and they spend millions of dollars and they sign Comedians and they've got all these shows that are streaming and you pay $14 a month it's absurd think about if you were said hey Mom and Dad I want to start this Video subscription and I'm going to just pay millions of dollars to get all these shows and movies made for us and I'm just going to charge 14 bucks it would be absurd that's how much value you have to provide to someone who doesn't have money to capture huge slices of the market how are you going to beat Prime $99 a year or 129 a year whatever it is now right and with prime you get basically all Netflix with Prime video you also have next day shipping same day shipping with anything that you want to buy 99 bucks a year $129 a year if you build to sell to the masses you need to build like you're going to sell to the masses and you're usually going to have to put a ton of money in for a long period of time because you have to have that infrastructure upfront to deal with that volume to have such a crazy value discrepancy that someone who has no money still never wants to cancel that's the key whereas if you go to wealthier people you can get a premium you can have five clients that all pay you $5,000 a month and make an amazing income and have the resources to actually do a good job and hire a couple people to help you out who are competent and\", metadata={'source': 'KhFlD54nQrY'}),\n",
       " Document(page_content=\"still never wants to cancel that's the key whereas if you go to wealthier people you can get a premium you can have five clients that all pay you $5,000 a month and make an amazing income and have the resources to actually do a good job and hire a couple people to help you out who are competent and you can do that when you charge more money and those people are not the ones who are like and everybody's hurt seen this me where the $50 month customer is like hey so for this $50 a month what am I going to get now we make fun of that that's the reality of if you're taking 5% of someone's paycheck it means a lot to them whereas if you're going to somebody who's making a million a month and they pay you five grand if they get one good thing a year they're stoked and they're like oh yeah I sent the wire did you get it like the difference between working with somebody who's on the lower end versus the higher end and so being very clear about who you serve not not serving other people going down Market only if you have the infrastructure to support huge amounts of volume and usually the capital to front it either you build for volume day one and win on efficiency like Amazon or Walmart or you build for a premium which means you Niche down and you completely solve problems for people so you completely solve a problem in a very narrow Niche and so let me give you a completely polar opposite examples here which I literally live on both sides of the spectrum on one side acquisition. comom is my premium brand right this is the brand that we do deals with this is where we have hundred million companies and stuff that we invest in that we own in right that's my family office and we do one or two deals a year just to being really real we make very rich people way wealthier right that's what I do there so someone comes in is already worth 50 million bucks and we're like cool how do we get to 250 and that's what we invest in that's what we we scale the company on the Other Extreme\", metadata={'source': 'KhFlD54nQrY'}),\n",
       " Document(page_content=\"one or two deals a year just to being really real we make very rich people way wealthier right that's what I do there so someone comes in is already worth 50 million bucks and we're like cool how do we get to 250 and that's what we invest in that's what we we scale the company on the Other Extreme we've got school so school is for everyone who's starting out now School took 5 years to get to the level of product that it is now and millions and tens of millions of dollars of development where it lost money the entire time and still loses money right now in order to create such an absurd value for the 99 bucks a month or whatever it is because we know that that $99 a month for somebody who's trying to start their business that's the entirety of their business budget and so we have to solve all of the business problems that those people have at that level and so these are two completely this I mean honestly the most polar extremes of value Creation in terms of who we're selling to or who we advertise to and who we're attracting and how we help them and so there's no coincidence that I did acquisition. comom before investing in being a co-owner of school because I had to make enough money to be able to afford to sell to people who don't have much to be able to to help build the infrastructure and invest millions of dollars to build that so that we could accommodate millions and millions of users right now we have many millions of users on the the platform if you are confused about how to sell rich people stuff first off the easiest hack for selling a rich people is do what somebody else is doing that sells to rich people and do it in half the time and charge twice the price number one rich people pay for time Above All Else But if we look at the value equation you've got the outcom so you got to make sure they want the outcome that you're promising and you got the three other variables you've got risk How likely is it that they're going to get what they want when they\", metadata={'source': 'KhFlD54nQrY'})]"
      ]
     },
     "execution_count": 6,
     "metadata": {},
     "output_type": "execute_result"
    }
   ],
   "source": [
    "pages[0:5]"
   ]
  },
  {
   "cell_type": "code",
   "execution_count": 7,
   "id": "223dd136",
   "metadata": {},
   "outputs": [],
   "source": [
    "llm = Ollama(model=\"gemma3:4b\")"
   ]
  },
  {
   "cell_type": "code",
   "execution_count": 8,
   "id": "7abc8c5c",
   "metadata": {},
   "outputs": [],
   "source": [
    "def local_llm(prompt: str, llm) -> str:\n",
    "    \"\"\"\n",
    "    Sends a prompt to the LangChain Ollama LLM instance and returns the response.\n",
    "    \"\"\"\n",
    "    try:\n",
    "        return llm.invoke(prompt).strip()\n",
    "    except Exception as e:\n",
    "        print(\"Error invoking model:\", e)\n",
    "        return \"\"\n"
   ]
  },
  {
   "cell_type": "code",
   "execution_count": 9,
   "id": "2d352d03",
   "metadata": {},
   "outputs": [],
   "source": [
    "def process_chunk_to_alpaca(doc: Document, llm) -> dict:\n",
    "    # Extract metadata from the LangChain Document\n",
    "    source_name = doc.metadata.get(\"source\", \"Unknown Name\")\n",
    "\n",
    "    # Inject metadata into prompt\n",
    "    instruction_with_metadata = f\"\"\"\n",
    "You are a business assistant analyzing raw business content from the following source:\n",
    "SOURCE NAME: {source_name}\n",
    "\n",
    "Your task is to extract the following from the provided transcript:\n",
    "1. Frameworks (e.g., naming, advertising, validation models).\n",
    "2. Bullet points for key ideas or steps.\n",
    "3. Q&A (any implied or stated questions with answers).\n",
    "4. Case Examples or stories.\n",
    "5. Copywriting formulas (AIDA, PAS, etc.)\n",
    "6. Classify this content into high-level topics: e.g., Naming, Ads, Psychology, Copywriting.\n",
    "7. Convert suitable content into a step-by-step guide.\n",
    "\n",
    "Return your output in clearly labeled sections, and only include sections with relevant content. Do not include a preamble.\n",
    "\"\"\".strip()\n",
    "\n",
    "    prompt = f\"{instruction_with_metadata}\\n\\n{doc.page_content.strip()}\"\n",
    "    response = local_llm(prompt, llm)\n",
    "\n",
    "    return {\n",
    "        \"instruction\": instruction_with_metadata,\n",
    "        \"input\": doc.page_content.strip(),\n",
    "        \"output\": response,\n",
    "        \"metadata\": doc.metadata\n",
    "    }\n"
   ]
  },
  {
   "cell_type": "code",
   "execution_count": 10,
   "id": "ec2793c1",
   "metadata": {},
   "outputs": [],
   "source": [
    "alpaca_data = []\n",
    "\n",
    "for doc in pages[0:5]:  # each doc is a langchain Document\n",
    "    alpaca_entry = process_chunk_to_alpaca(doc, llm)\n",
    "    alpaca_data.append(alpaca_entry)"
   ]
  },
  {
   "cell_type": "code",
   "execution_count": 11,
   "id": "48e6afb1",
   "metadata": {},
   "outputs": [
    {
     "data": {
      "text/plain": [
       "[{'instruction': 'You are a business assistant analyzing raw business content from the following source:\\nSOURCE NAME: KhFlD54nQrY\\n\\nYour task is to extract the following from the provided transcript:\\n1. Frameworks (e.g., naming, advertising, validation models).\\n2. Bullet points for key ideas or steps.\\n3. Q&A (any implied or stated questions with answers).\\n4. Case Examples or stories.\\n5. Copywriting formulas (AIDA, PAS, etc.)\\n6. Classify this content into high-level topics: e.g., Naming, Ads, Psychology, Copywriting.\\n7. Convert suitable content into a step-by-step guide.\\n\\nReturn your output in clearly labeled sections, and only include sections with relevant content. Do not include a preamble.',\n",
       "  'input': \"I've been in business for 13 years I've sold nine companies my last company I sold for 46.2 million I own acquisition. comom which right now does about $17 million a month across our portfolio I'm going to compress 13 years of brutal business truths and lessons into this one video brutal business truth number one sell to rich people until you have the money to sell all the poor people the middle is where you get killed Elon said you can either do a lot of good for a small amount of people or a little good for a large amount of people and I will tell you personally it's way hard to do a little good for a lot of people than a lot of good for a small amount of people there is a reason that Tesla started at the top they started only selling to rich people they had the Roadster which was $250,000 and so they sold those and then he was able to go down Market one and sell $100,000 cars to just upper Ash line of society the wealthy and then after that he made the X which is a little bit cheaper than that and then underneath of that he made the model 3 which was going to be the mass model right and each time it was significantly harder to do the one before because if if you want to sell based on value in terms of low cost you need to build the infrastructure for huge amounts of demand because the only way that you make money selling to poor people is selling tons and tons and tons of them look at Walmart look at Amazon these are businesses that were built for volume day one and they win on efficiency that was the whole point Amazon he wanted to have the best selection and the lowest prices Walmart everyday low prices they want they win on efficiencies like they all fly coach they use fold out cheairs they drink out of paper cups they purposely breed the culture of efficiency because it's the only way that you can win if you sell to poor people and I say poor people to be hyperbolic in terms of my language so that it drives the point home obviously I buy from Amazon but the\",\n",
       "  'output': '## Analysis of Business Content (KhFlD54nQrY)\\n\\n**1. Frameworks:**\\n\\n*   **Value-Based Selling:** Focusing on selling to high-value clients initially to generate capital.\\n*   **Efficiency-Driven Business Model:**  Achieving success through optimized operations, particularly in volume-based businesses.\\n\\n\\n\\n**2. Bullet Points for Key Ideas/Steps:**\\n\\n*   **Prioritize Rich Clients:**  Focus initial sales efforts on affluent individuals or companies.\\n*   **Capitalize Early:**  Use initial high-value sales to fund expansion and product development.\\n*   **Leverage Volume for Efficiency:**  If aiming for mass markets, build robust infrastructure and optimize for operational efficiency (e.g., Walmart, Amazon).\\n*   **Tesla\\'s Strategy:**  Started by selling high-end vehicles to build capital, then gradually scaled down to broader markets.\\n\\n**3. Q&A:**\\n\\n*   **Implied Question:** \"What’s the best approach to starting a business?\"\\n    *   **Answer:** “Sell to rich people until you have the money to sell all the poor people.” (Emphasis on initial high-value sales)\\n*   **Implied Question:** “Why do some businesses fail to scale?”\\n    *   **Answer:** “If you want to sell based on value in terms of low cost, you need to build the infrastructure for huge amounts of demand.” (Highlighting the challenge of volume-based strategies)\\n\\n\\n\\n**4. Case Examples/Stories:**\\n\\n*   **Tesla:**  Started with the Roadster ($250,000) to build capital, then moved to the Model S ($100,000) and eventually the Model 3 (mass market).\\n*   **Amazon:** Built on volume and efficiency with its focus on low prices and massive selection.\\n*   **Walmart:** Emphasizes everyday low prices and efficient operations.\\n\\n**5. Copywriting Formulas:**\\n\\n*   **PAS (Problem-Agitate-Solution):** (Implied – highlighting the need to first identify a problem (rich clients), then agitate it (difficult to sell to poor people), and then offer a solution (sell to rich people)).\\n\\n\\n\\n**6. High-Level Topics:**\\n\\n*   **Naming:** (Implicit – The emphasis on targeting wealthy clients as a strategic \"name\" for the business).\\n*   **Ads:** (Implicit - Targeting wealthy customers can be considered an advertising strategy).\\n*   **Psychology:** (Focus on understanding the behavior of wealthy consumers).\\n*   **Copywriting:** (Applying persuasive language to drive sales).\\n\\n\\n\\n**7. Step-by-Step Guide (Based on Content):**\\n\\n1.  **Target High-Value Clients Initially:**  Concentrate your sales efforts on wealthy individuals or companies as your primary customer base.\\n2.  **Generate Capital:**  Utilize these early sales to build a financial foundation for your business.\\n3.  **Invest in Infrastructure:** If pursuing a mass market, strategically invest in the infrastructure necessary to handle high demand.\\n4.  **Prioritize Efficiency:**  Regardless of the target market, build a culture of operational efficiency.\\n5.  **Adapt Your Product/Offerings:**  Based on your initial capital and market validation, adjust your products or services to cater to broader markets, but maintain efficiency.',\n",
       "  'metadata': {'source': 'KhFlD54nQrY'}},\n",
       " {'instruction': 'You are a business assistant analyzing raw business content from the following source:\\nSOURCE NAME: KhFlD54nQrY\\n\\nYour task is to extract the following from the provided transcript:\\n1. Frameworks (e.g., naming, advertising, validation models).\\n2. Bullet points for key ideas or steps.\\n3. Q&A (any implied or stated questions with answers).\\n4. Case Examples or stories.\\n5. Copywriting formulas (AIDA, PAS, etc.)\\n6. Classify this content into high-level topics: e.g., Naming, Ads, Psychology, Copywriting.\\n7. Convert suitable content into a step-by-step guide.\\n\\nReturn your output in clearly labeled sections, and only include sections with relevant content. Do not include a preamble.',\n",
       "  'input': \"use fold out cheairs they drink out of paper cups they purposely breed the culture of efficiency because it's the only way that you can win if you sell to poor people and I say poor people to be hyperbolic in terms of my language so that it drives the point home obviously I buy from Amazon but the point is is that the strategy is based on volume and you've probably heard some of my other tweets around this which is solve rich people problems they pay better or if you solve rich people problems you get to charge rich people prices this is what I think the key Insight is is that to someone who only has $11,000 when they pay you $100 they pay you 10% of their net worth their expectations of what they're going to get for that $100 is the same as a rich person giving you 10 million of their $100 million it would be gigantic right in terms of their expectations but getting a rich person to give you $100 they might have you notice and so the thing is is that it's actually easier in some ways to solve rich people problems because they're willing to pay more in an absolute sense for lower relative value and so with that extra profit or gross margin you can absolutely overd deliver for them and still make money and not have to learn all these things with infrastructure so for example if I wanted to start a bank I would have to have $25 to $100 million to start it up but if you do that then you have to build the infrastructure that you can handle money for zillions and zillions and zillions of people a very hard business to get into and so the idea is that you want to sell at least this is my belief is that you want to sell premium you want to sell s to wealthy people you want to sell to a niche person that you can do a lot of good for in a very small slice because you don't have to compete against everyone you can have inefficiencies and still make money without having to have tremendous infrastructure and skill around building it once you make a ton of money doing that you\",\n",
       "  'output': '## Analysis of Business Content (KhFlD54nQrY)\\n\\n**1. Frameworks:**\\n\\n*   **Volume-Based Strategy:**  The core strategy revolves around high volume sales, initially targeting \"poor people\" (hyperbolically) to establish a base.\\n*   **Rich Person Problem Solving:**  A framework for selling to wealthy individuals, understanding their higher expectations and willingness to pay more for perceived value.\\n*   **Niche Focus:** Selling to a specific, smaller, wealthy niche to avoid competitive pressures and inefficiencies.\\n\\n\\n\\n**2. Bullet Points for Key Ideas/Steps:**\\n\\n*   **Target \"Poor People\" Initially:** Establish volume sales, understanding low expectations.\\n*   **Solve Rich People Problems:** Recognize that wealthy clients have significantly higher expectations for value.\\n*   **Overdeliver to Rich Clients:** Leverage increased profit margins from rich clients to provide exceptional service and premium offerings.\\n*   **Avoid Infrastructure Overload:** Focus on a niche to minimize the need for extensive infrastructure and complex skillsets.\\n*   **Scale with Profits:**  Once sufficient profits are generated, scale strategically.\\n\\n**3. Q&A:**\\n\\n*   **Implied Question:** \"How can I maximize profits?\"\\n    *   **Answer:**  \"By initially targeting lower-value clients (poor people) to build volume, then pivoting to solve rich people problems and overdeliver to them.\"\\n*   **Implied Question:** \"What\\'s the best approach to pricing?\"\\n    *   **Answer:** \"Charge rich people prices, leveraging their higher expectations and willingness to pay for superior value.”\\n\\n\\n**4. Case Examples/Stories:**\\n\\n*   **Contrast of Expectations:** The transcript highlights the difference in expectations: \"someone who only has $11,000 when they pay you $100 they pay you 10% of their net worth.\"\\n\\n\\n\\n**5. Copywriting Formulas:**\\n\\n*   **PAS (Problem-Agitate-Solve):**  Implied within the \"rich person problem solving\" strategy – identify the problem (rich people\\'s expectations), agitate the pain (low expectations), and then solve it by providing premium solutions.\\n\\n\\n\\n**6. High-Level Topics:**\\n\\n*   **Naming:** (Implicitly related to targeting specific niches)\\n*   **Ads:** (Related to strategic targeting and messaging for different customer segments)\\n*   **Psychology:** (Understanding customer expectations and willingness to pay)\\n*   **Copywriting:** (Framing value propositions for different audiences)\\n\\n\\n\\n**7. Step-by-Step Guide:  Building a Successful Business (Based on the Transcript)**\\n\\n1.  **Start Small with Volume:**  Initially, focus on high-volume sales, understanding that clients have lower expectations for value.  Build a base operation.\\n2.  **Identify a Wealthy Niche:**  Research and identify a specific, wealthy customer segment.\\n3.  **Understand Rich Person Expectations:**  Recognize that wealthy clients have significantly higher expectations for value, quality, and service.\\n4.  **Craft a Premium Value Proposition:** Based on the niche\\'s needs, develop a product or service that delivers exceptional value and overdelivers relative to its cost.\\n5.  **Overdeliver:**  Go above and beyond the client\\'s expectations, providing a superior experience that justifies the premium price.\\n6.  **Leverage Profit Margins:**  Use the increased profit margins generated by rich clients to invest in operational improvements and further enhance the value proposition.\\n7.  **Scale Strategically:** As the business grows, strategically scale your operations, using profits to build out necessary infrastructure while maintaining a focus on efficiency.',\n",
       "  'metadata': {'source': 'KhFlD54nQrY'}},\n",
       " {'instruction': 'You are a business assistant analyzing raw business content from the following source:\\nSOURCE NAME: KhFlD54nQrY\\n\\nYour task is to extract the following from the provided transcript:\\n1. Frameworks (e.g., naming, advertising, validation models).\\n2. Bullet points for key ideas or steps.\\n3. Q&A (any implied or stated questions with answers).\\n4. Case Examples or stories.\\n5. Copywriting formulas (AIDA, PAS, etc.)\\n6. Classify this content into high-level topics: e.g., Naming, Ads, Psychology, Copywriting.\\n7. Convert suitable content into a step-by-step guide.\\n\\nReturn your output in clearly labeled sections, and only include sections with relevant content. Do not include a preamble.',\n",
       "  'input': \"to a niche person that you can do a lot of good for in a very small slice because you don't have to compete against everyone you can have inefficiencies and still make money without having to have tremendous infrastructure and skill around building it once you make a ton of money doing that you can obviously just do more of that which big fan or you say you know what the next thing I do I want to do for zillions and zillions of people and so then you build a business like a Netflix that think about how insane Netflix is just as a concept you pay $13 or $15 a month or whatever it is now and they create movies and shows and they spend millions of dollars and they sign Comedians and they've got all these shows that are streaming and you pay $14 a month it's absurd think about if you were said hey Mom and Dad I want to start this Video subscription and I'm going to just pay millions of dollars to get all these shows and movies made for us and I'm just going to charge 14 bucks it would be absurd that's how much value you have to provide to someone who doesn't have money to capture huge slices of the market how are you going to beat Prime $99 a year or 129 a year whatever it is now right and with prime you get basically all Netflix with Prime video you also have next day shipping same day shipping with anything that you want to buy 99 bucks a year $129 a year if you build to sell to the masses you need to build like you're going to sell to the masses and you're usually going to have to put a ton of money in for a long period of time because you have to have that infrastructure upfront to deal with that volume to have such a crazy value discrepancy that someone who has no money still never wants to cancel that's the key whereas if you go to wealthier people you can get a premium you can have five clients that all pay you $5,000 a month and make an amazing income and have the resources to actually do a good job and hire a couple people to help you out who are competent and\",\n",
       "  'output': '## Analysis of Business Content (KhFlD54nQrY)\\n\\n**1. Frameworks:**\\n\\n*   **Value Discrepancy:** The core framework revolves around creating a significant value discrepancy – offering a service or product at a low price relative to the investment required.\\n*   **Mass Market Approach:**  Scaling by targeting a large, price-sensitive audience.\\n\\n**2. Bullet Points for Key Ideas/Steps:**\\n\\n*   **Start with a Value Discrepancy:** Identify a product/service where the cost of delivery is low relative to the perceived value.\\n*   **Target a Price-Sensitive Market:** Focus on customers who are willing to pay a low price for significant value.\\n*   **Leverage Scalability:**  Build a system that can handle high volume with minimal infrastructure.\\n*   **Mimic Netflix Model:**  Recognize the success of subscription models like Netflix.\\n\\n\\n**3. Q&A:**\\n\\n*   **Question:** “How can you compete with established players like Amazon Prime (charging $99/year)?”\\n    *   **Answer:**  “By creating a massive value discrepancy.  Offer a service for $14/month that provides significant value even if it’s lower than Prime’s offering.”\\n*   **Implied Question:** “What’s the key to scaling a business?”\\n    *   **Answer:** “Build a system that can handle high volume with minimal infrastructure.”\\n\\n**4. Case Examples/Stories:**\\n\\n*   **Netflix Example:** The discussion heavily utilizes Netflix as a successful example of a business that utilizes a significant value discrepancy, offering a subscription service for a low monthly fee while investing heavily in content creation.\\n\\n**5. Copywriting Formulas:**\\n\\n*   **Implied AIDA:** The content subtly suggests using the Attention, Interest, Desire, Action framework by highlighting the need to first draw attention to the value discrepancy, then build interest and desire, and finally, encourage action (subscription).\\n\\n**6. High-Level Topics:**\\n\\n*   **Business Strategy:**  (Overall focus on strategic thinking and market positioning).\\n*   **Marketing & Sales:** (Specific focus on pricing and value proposition).\\n*   **Entrepreneurship:** (Principles of building a scalable business).\\n\\n**7. Step-by-Step Guide (Creating a Business Based on the Value Discrepancy Principle):**\\n\\n1.  **Identify the Opportunity:** Find a product/service where your costs to deliver are low.  (e.g., content, information, templates, digital tools).\\n2.  **Quantify the Value:** Determine how much value your offering provides to the customer.\\n3.  **Price Strategically:** Set a low price point that reflects the value while ensuring profitability.\\n4.  **Scale Your Operations:** Build a system that can handle increasing demand without massive overhead. (Consider digital tools, automation, and outsourcing).\\n5.  **Target the Mass Market:** Focus on attracting a large number of customers who are looking for value.\\n6.  **Continuously Improve:** Analyze your costs and value to optimize your offering and pricing.',\n",
       "  'metadata': {'source': 'KhFlD54nQrY'}},\n",
       " {'instruction': 'You are a business assistant analyzing raw business content from the following source:\\nSOURCE NAME: KhFlD54nQrY\\n\\nYour task is to extract the following from the provided transcript:\\n1. Frameworks (e.g., naming, advertising, validation models).\\n2. Bullet points for key ideas or steps.\\n3. Q&A (any implied or stated questions with answers).\\n4. Case Examples or stories.\\n5. Copywriting formulas (AIDA, PAS, etc.)\\n6. Classify this content into high-level topics: e.g., Naming, Ads, Psychology, Copywriting.\\n7. Convert suitable content into a step-by-step guide.\\n\\nReturn your output in clearly labeled sections, and only include sections with relevant content. Do not include a preamble.',\n",
       "  'input': \"still never wants to cancel that's the key whereas if you go to wealthier people you can get a premium you can have five clients that all pay you $5,000 a month and make an amazing income and have the resources to actually do a good job and hire a couple people to help you out who are competent and you can do that when you charge more money and those people are not the ones who are like and everybody's hurt seen this me where the $50 month customer is like hey so for this $50 a month what am I going to get now we make fun of that that's the reality of if you're taking 5% of someone's paycheck it means a lot to them whereas if you're going to somebody who's making a million a month and they pay you five grand if they get one good thing a year they're stoked and they're like oh yeah I sent the wire did you get it like the difference between working with somebody who's on the lower end versus the higher end and so being very clear about who you serve not not serving other people going down Market only if you have the infrastructure to support huge amounts of volume and usually the capital to front it either you build for volume day one and win on efficiency like Amazon or Walmart or you build for a premium which means you Niche down and you completely solve problems for people so you completely solve a problem in a very narrow Niche and so let me give you a completely polar opposite examples here which I literally live on both sides of the spectrum on one side acquisition. comom is my premium brand right this is the brand that we do deals with this is where we have hundred million companies and stuff that we invest in that we own in right that's my family office and we do one or two deals a year just to being really real we make very rich people way wealthier right that's what I do there so someone comes in is already worth 50 million bucks and we're like cool how do we get to 250 and that's what we invest in that's what we we scale the company on the Other Extreme\",\n",
       "  'output': '## Analysis of Business Content (KhFlD54nQrY)\\n\\n**1. Frameworks:**\\n\\n*   **Value-Based Pricing:** The core concept revolves around charging higher prices to clients who can afford a premium and derive significant value, versus targeting low-paying clients.\\n*   **Niche Down Strategy:**  Focusing on a very specific problem within a narrow market to deliver a completely tailored solution.\\n\\n\\n**2. Bullet Points for Key Ideas/Steps:**\\n\\n*   **Prioritize High-Value Clients:** Target wealthy individuals or companies willing to pay a premium for specialized services.\\n*   **Value Perception:** A $5,000 monthly client is far more valuable than a $50 monthly client.\\n*   **Strategic Niche Selection:** Focus on solving a specific problem for a defined niche.\\n*   **Scale Strategically:** Decide whether to build for high volume (like Amazon) or a premium, niche market.\\n\\n\\n\\n**3. Q&A:**\\n\\n*   **Q: What’s the difference in client value between a $50/month client and a $5,000/month client?**\\n    *   **A:** A $5,000/month client represents a far greater value due to their ability to afford premium services and generate significant income.\\n*   **Q: What’s the key to success in scaling a business?**\\n    *   **A:** Decide whether to build for high volume (like Amazon) or a premium, niche market.\\n\\n\\n\\n**4. Case Examples/Stories:**\\n\\n*   **Acquisition.com (Premium Brand):** The speaker describes their own business, Acquisition.com, as a premium brand that works with companies worth $100 million+, helping them scale to $250 million.  They do only one or two deals a year.\\n*   **Polar Opposite Example:**  Contrast with the $50/month customer who receives little tangible benefit.\\n\\n\\n\\n**5. Copywriting Formulas:**\\n\\n*   **PAS (Problem-Agitate-Solve):** Implied within the discussion of targeting high-value clients and their problems. The speaker is suggesting a solution (premium service) for a specific, significant problem.\\n\\n\\n\\n**6. High-Level Topics:**\\n\\n*   **Business Strategy:**  Focuses on strategic decision-making, particularly around pricing, market selection, and scaling.\\n*   **Business Development:**  The core concept revolves around identifying and targeting high-value clients.\\n*   **Finance / Investment:** The speaker\\'s \"family office\" business demonstrates a focus on high-level investment strategies.\\n\\n\\n\\n**7. Step-by-Step Guide (Based on Key Ideas):**\\n\\n1.  **Identify Your Niche:**  Clearly define the specific problem you’re solving and the target audience within that niche.\\n2.  **Assess Client Value:**  Determine the potential revenue or profit a client within your niche can generate.\\n3.  **Price Strategically:**  Set your pricing based on the perceived value delivered to high-value clients—don’t undervalue your expertise.\\n4.  **Focus on High-Value Clients:** Prioritize acquiring clients capable of affording and benefiting from your premium services.\\n5.  **Scale Wisely:** Decide whether to build for volume or focus on a premium, niche market.',\n",
       "  'metadata': {'source': 'KhFlD54nQrY'}},\n",
       " {'instruction': 'You are a business assistant analyzing raw business content from the following source:\\nSOURCE NAME: KhFlD54nQrY\\n\\nYour task is to extract the following from the provided transcript:\\n1. Frameworks (e.g., naming, advertising, validation models).\\n2. Bullet points for key ideas or steps.\\n3. Q&A (any implied or stated questions with answers).\\n4. Case Examples or stories.\\n5. Copywriting formulas (AIDA, PAS, etc.)\\n6. Classify this content into high-level topics: e.g., Naming, Ads, Psychology, Copywriting.\\n7. Convert suitable content into a step-by-step guide.\\n\\nReturn your output in clearly labeled sections, and only include sections with relevant content. Do not include a preamble.',\n",
       "  'input': \"one or two deals a year just to being really real we make very rich people way wealthier right that's what I do there so someone comes in is already worth 50 million bucks and we're like cool how do we get to 250 and that's what we invest in that's what we we scale the company on the Other Extreme we've got school so school is for everyone who's starting out now School took 5 years to get to the level of product that it is now and millions and tens of millions of dollars of development where it lost money the entire time and still loses money right now in order to create such an absurd value for the 99 bucks a month or whatever it is because we know that that $99 a month for somebody who's trying to start their business that's the entirety of their business budget and so we have to solve all of the business problems that those people have at that level and so these are two completely this I mean honestly the most polar extremes of value Creation in terms of who we're selling to or who we advertise to and who we're attracting and how we help them and so there's no coincidence that I did acquisition. comom before investing in being a co-owner of school because I had to make enough money to be able to afford to sell to people who don't have much to be able to to help build the infrastructure and invest millions of dollars to build that so that we could accommodate millions and millions of users right now we have many millions of users on the the platform if you are confused about how to sell rich people stuff first off the easiest hack for selling a rich people is do what somebody else is doing that sells to rich people and do it in half the time and charge twice the price number one rich people pay for time Above All Else But if we look at the value equation you've got the outcom so you got to make sure they want the outcome that you're promising and you got the three other variables you've got risk How likely is it that they're going to get what they want when they\",\n",
       "  'output': '## Analysis of KhFlD54nQrY Content\\n\\n**1. Frameworks**\\n\\n*   **Value Equation:** The content explicitly discusses a value equation considering outcome, risk, and other variables.\\n*   **Copywriting Formula (Implied):** The suggestion to \"do what somebody else is doing that sells rich people stuff\" strongly suggests leveraging established, successful strategies.\\n\\n**2. Bullet Points for Key Ideas/Steps**\\n\\n*   To serve high-net-worth individuals (HNW), focus on scaling existing companies to significantly higher values (e.g., $50M to $250M).\\n*   To serve aspiring entrepreneurs (starting businesses), prioritize building a product with substantial value at a low price point (e.g., $99/month).\\n*   Copywriting Strategy: “Do what somebody else is doing that sells rich people stuff” - leveraging existing successful strategies (potentially AIDA or PAS, though not explicitly stated).\\n*   Focus on the desired outcome for the customer (risk, time, etc.).\\n\\n**3. Q&A**\\n\\n*   **Implied Question:** \"How do you help someone increase their wealth significantly?\"\\n    *   **Answer:** Scale existing companies to higher values.\\n*   **Implied Question:** \"How can you build a valuable product for a low-budget entrepreneur?\"\\n    *   **Answer:** Create a product that delivers significant value for a small investment (e.g., $99/month).\\n*   **Implied Question:** \"What’s the best way to market to rich people?\"\\n    *   **Answer:**  Mimic successful strategies used to sell to wealthy individuals.\\n\\n**4. Case Examples/Stories**\\n\\n*   **Acquisition.com:** The speaker’s prior venture, acquired to enable investment in products targeting lower-income customers.\\n*   **The \"School\" Product:** A product developed over 5 years with significant development costs and ongoing losses, designed to offer a $99/month service.\\n\\n**5. Copywriting Formulas**\\n\\n*   **AIDA (Attention, Interest, Desire, Action):** Implicitly suggested by the need to grab the attention of wealthy individuals and create desire for a solution.\\n*   **PAS (Problem, Agitation, Solution):** The \"School\" product’s development is an example of addressing a problem (starting a business) through a solution (a valuable product).\\n\\n**6. High-Level Topics**\\n\\n*   **Naming:**  The initial focus on scaling companies suggests an emphasis on brand and company name strategy.\\n*   **Ads:**  Targeting both wealthy individuals and entrepreneurs represents an advertising strategy.\\n*   **Psychology:** The discussion of risk tolerance, desired outcomes, and mimicking successful strategies demonstrates an understanding of behavioral psychology.\\n*   **Copywriting:** Central to the overall approach.\\n\\n\\n\\n**7. Step-by-Step Guide (for Serving Both High-Net-Worth Individuals & Entrepreneurs)**\\n\\n1.  **Identify the Client:** Determine whether the target is a high-net-worth individual seeking company scale or an entrepreneur starting a business.\\n2.  **Wealthy Individuals:**\\n    *   **Scale an Existing Business:** Invest in companies with existing revenue streams and potential for rapid expansion.\\n    *   **Time is the Key:**  Focus on delivering rapid results to justify premium pricing.\\n3.  **Entrepreneurs (Low-Budget):**\\n    *   **Develop a Valuable Product:** Create a product offering substantial value at an accessible price point (e.g., $99/month).\\n    *   **Address Core Business Problems:** Focus on solving critical business challenges for this segment.\\n4.  **Mimic Proven Strategies:** Learn from successful approaches used by established players in the market to increase chances of success.  (This likely involves deep copywriting and marketing research).',\n",
       "  'metadata': {'source': 'KhFlD54nQrY'}}]"
      ]
     },
     "execution_count": 11,
     "metadata": {},
     "output_type": "execute_result"
    }
   ],
   "source": [
    "alpaca_data"
   ]
  },
  {
   "cell_type": "code",
   "execution_count": 12,
   "id": "a89d6738",
   "metadata": {},
   "outputs": [],
   "source": [
    "def alpaca_to_documents(alpaca_data):\n",
    "    docs = []\n",
    "    for entry in alpaca_data:\n",
    "        metadata = {\n",
    "            \"instruction\": entry.get(\"instruction\", \"\"),\n",
    "            \"input\": entry.get(\"input\", \"\")\n",
    "        }\n",
    "        docs.append(Document(page_content=entry[\"output\"], metadata=metadata))\n",
    "    return docs"
   ]
  },
  {
   "cell_type": "code",
   "execution_count": 13,
   "id": "d8151a94",
   "metadata": {},
   "outputs": [
    {
     "name": "stderr",
     "output_type": "stream",
     "text": [
      "/Users/hitesh.modi/Desktop/Kinda Personal/LLM Finetuning Expert/finetunedexpert/lib/python3.10/site-packages/tqdm/auto.py:21: TqdmWarning: IProgress not found. Please update jupyter and ipywidgets. See https://ipywidgets.readthedocs.io/en/stable/user_install.html\n",
      "  from .autonotebook import tqdm as notebook_tqdm\n"
     ]
    }
   ],
   "source": [
    "embedding = HuggingFaceEmbeddings(\n",
    "    model_name=\"all-MiniLM-L6-v2\"\n",
    "    ) "
   ]
  },
  {
   "cell_type": "code",
   "execution_count": 14,
   "id": "3731082e",
   "metadata": {},
   "outputs": [],
   "source": [
    "embedding = embedding\n",
    "docs = alpaca_to_documents(alpaca_data)\n",
    "vectorstore = FAISS.from_documents(docs, embedding)"
   ]
  },
  {
   "cell_type": "code",
   "execution_count": 15,
   "id": "89654fb4",
   "metadata": {},
   "outputs": [],
   "source": [
    "qa_chain = RetrievalQA.from_chain_type(\n",
    "    llm=llm,\n",
    "    chain_type=\"stuff\",\n",
    "    retriever=vectorstore.as_retriever()\n",
    ")\n"
   ]
  },
  {
   "cell_type": "code",
   "execution_count": 16,
   "id": "025c950d",
   "metadata": {},
   "outputs": [
    {
     "name": "stderr",
     "output_type": "stream",
     "text": [
      "/Users/hitesh.modi/Desktop/Kinda Personal/LLM Finetuning Expert/finetunedexpert/lib/python3.10/site-packages/langchain_core/_api/deprecation.py:119: LangChainDeprecationWarning: The method `Chain.run` was deprecated in langchain 0.1.0 and will be removed in 0.3.0. Use invoke instead.\n",
      "  warn_deprecated(\n"
     ]
    },
    {
     "name": "stdout",
     "output_type": "stream",
     "text": [
      "\n",
      "🔍 Answer from local model:\n",
      "Based on the analysis of the KhFlD54nQrY content, the most effective approach is to **initially target rich people to build capital and then scale down to a mass market.**\n",
      "\n",
      "Here’s a breakdown of why:\n",
      "\n",
      "*   **Capital Generation:** The core strategy relies on generating significant capital early on by selling to affluent clients. This capital is then used to fund development and scale operations.\n",
      "*   **Value Discrepancy:** Selling to wealthy individuals allows you to establish a high price point, which generates a substantial initial revenue stream.\n",
      "*   **Scaling Down:** Once sufficient capital is accumulated, the focus shifts to building a system capable of handling a massive, price-sensitive audience. This is exemplified by the Netflix model – starting with high-value subscribers and then expanding to a broader, lower-cost market.\n",
      "\n",
      "Therefore, prioritize targeting rich people initially to secure the necessary funding for scaling to a mass market.\n"
     ]
    }
   ],
   "source": [
    "query = \"Should we target to sell to rich people or otheerwise?\"\n",
    "response = qa_chain.run(query)\n",
    "\n",
    "print(\"\\n🔍 Answer from local model:\")\n",
    "print(response)\n"
   ]
  },
  {
   "cell_type": "code",
   "execution_count": null,
   "id": "f6c0753e",
   "metadata": {},
   "outputs": [],
   "source": [
    "# Save to .jsonl\n",
    "with open(\"alpaca_dataset.jsonl\", \"w\", encoding=\"utf-8\") as f:\n",
    "    for entry in alpaca_data:\n",
    "        f.write(json.dumps(entry, ensure_ascii=False) + \"\\n\")\n"
   ]
  }
 ],
 "metadata": {
  "kernelspec": {
   "display_name": "finetunedexpert",
   "language": "python",
   "name": "python3"
  },
  "language_info": {
   "codemirror_mode": {
    "name": "ipython",
    "version": 3
   },
   "file_extension": ".py",
   "mimetype": "text/x-python",
   "name": "python",
   "nbconvert_exporter": "python",
   "pygments_lexer": "ipython3",
   "version": "3.10.11"
  }
 },
 "nbformat": 4,
 "nbformat_minor": 5
}
