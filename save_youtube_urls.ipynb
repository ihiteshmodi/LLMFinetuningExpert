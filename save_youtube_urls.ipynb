{
 "cells": [
  {
   "cell_type": "code",
   "execution_count": 1,
   "id": "d2d569c6",
   "metadata": {},
   "outputs": [],
   "source": [
    "import pandas as pd"
   ]
  },
  {
   "cell_type": "code",
   "execution_count": null,
   "id": "3c781d76",
   "metadata": {},
   "outputs": [],
   "source": [
    "#There is a chrome extension called youtube URL extractor. We used it to scrape all playlists, as it gives us data bout Views and date modified as well, we can use the filters"
   ]
  },
  {
   "cell_type": "code",
   "execution_count": 2,
   "id": "fa4fe0a2",
   "metadata": {},
   "outputs": [],
   "source": [
    "filepaths = [r\"/Users/hitesh.modi/Desktop/Kinda Personal/LLM Finetuning Expert/Link_files/youtube_videos.csv\",\n",
    "             r\"/Users/hitesh.modi/Desktop/Kinda Personal/LLM Finetuning Expert/Link_files/youtube_videos (1).csv\",\n",
    "             r\"/Users/hitesh.modi/Desktop/Kinda Personal/LLM Finetuning Expert/Link_files/youtube_videos (2).csv\",\n",
    "             r\"/Users/hitesh.modi/Desktop/Kinda Personal/LLM Finetuning Expert/Link_files/youtube_videos (3).csv\",\n",
    "             r\"/Users/hitesh.modi/Desktop/Kinda Personal/LLM Finetuning Expert/Link_files/youtube_videos (4).csv\",\n",
    "             r\"/Users/hitesh.modi/Desktop/Kinda Personal/LLM Finetuning Expert/Link_files/youtube_videos (5).csv\",\n",
    "             r\"/Users/hitesh.modi/Desktop/Kinda Personal/LLM Finetuning Expert/Link_files/youtube_videos (6).csv\",\n",
    "             r\"/Users/hitesh.modi/Desktop/Kinda Personal/LLM Finetuning Expert/Link_files/youtube_videos (7).csv\",\n",
    "             r\"/Users/hitesh.modi/Desktop/Kinda Personal/LLM Finetuning Expert/Link_files/youtube_videos (8).csv\",\n",
    "             r\"/Users/hitesh.modi/Desktop/Kinda Personal/LLM Finetuning Expert/Link_files/youtube_videos (9).csv\",\n",
    "             r\"/Users/hitesh.modi/Desktop/Kinda Personal/LLM Finetuning Expert/Link_files/youtube_videos (10).csv\",\n",
    "             r\"/Users/hitesh.modi/Desktop/Kinda Personal/LLM Finetuning Expert/Link_files/youtube_videos (11).csv\",\n",
    "             r\"/Users/hitesh.modi/Desktop/Kinda Personal/LLM Finetuning Expert/Link_files/youtube_videos (12).csv\",\n",
    "             r\"/Users/hitesh.modi/Desktop/Kinda Personal/LLM Finetuning Expert/Link_files/youtube_videos (13).csv\"]"
   ]
  },
  {
   "cell_type": "code",
   "execution_count": 3,
   "id": "756750b2",
   "metadata": {},
   "outputs": [],
   "source": [
    "dfs = []\n",
    "for files in filepaths:\n",
    "    df = pd.read_csv(files)\n",
    "    dfs.append(df)"
   ]
  },
  {
   "cell_type": "code",
   "execution_count": 19,
   "id": "8cb1e37a",
   "metadata": {},
   "outputs": [],
   "source": [
    "master_df = pd.concat(dfs)"
   ]
  },
  {
   "cell_type": "code",
   "execution_count": 20,
   "id": "d928b514",
   "metadata": {},
   "outputs": [
    {
     "data": {
      "text/plain": [
       "array(['3 weeks ago', '1 month ago', '2 months ago', '3 months ago',\n",
       "       '4 months ago', '10 months ago', '11 months ago', '1 year ago',\n",
       "       '9 months ago', '3 years ago', '4 years ago', '2 years ago',\n",
       "       '5 months ago', '8 months ago', '7 months ago', '5 years ago',\n",
       "       '6 months ago', '6 years ago', '5 days ago', '2 weeks ago',\n",
       "       '6 days ago', '8 days ago', '11 days ago', '12 days ago',\n",
       "       '13 days ago', '4 weeks ago'], dtype=object)"
      ]
     },
     "execution_count": 20,
     "metadata": {},
     "output_type": "execute_result"
    }
   ],
   "source": [
    "master_df[\"Upload Date\"].unique()"
   ]
  },
  {
   "cell_type": "code",
   "execution_count": 21,
   "id": "0d2d65e4",
   "metadata": {},
   "outputs": [],
   "source": [
    "exclude_list = [\"4 years ago\", \"5 years ago\"]\n",
    "filt = master_df[\"Upload Date\"].isin(exclude_list)\n",
    "master_df = master_df[~filt]"
   ]
  },
  {
   "cell_type": "code",
   "execution_count": 22,
   "id": "79541c68",
   "metadata": {},
   "outputs": [],
   "source": [
    "master_df[\"Views\"] = master_df[\"Views\"].str.replace(\"K\", \"\", regex=False)"
   ]
  },
  {
   "cell_type": "code",
   "execution_count": 32,
   "id": "683132af",
   "metadata": {},
   "outputs": [],
   "source": [
    "Millions_views_df_filt = master_df[\"Views\"].str.contains(\"M\")\n",
    "million_views_df = master_df[Millions_views_df_filt]\n",
    "lessthan_million_views_df = master_df[~Millions_views_df_filt]"
   ]
  },
  {
   "cell_type": "code",
   "execution_count": 34,
   "id": "b2c8ef22",
   "metadata": {},
   "outputs": [],
   "source": [
    "lessthan_million_views_df = lessthan_million_views_df[lessthan_million_views_df[\"Views\"].astype(float) > 75]"
   ]
  },
  {
   "cell_type": "code",
   "execution_count": 36,
   "id": "255bcd17",
   "metadata": {},
   "outputs": [],
   "source": [
    "final_df = pd.concat([lessthan_million_views_df, million_views_df])"
   ]
  },
  {
   "cell_type": "code",
   "execution_count": 38,
   "id": "96cf980e",
   "metadata": {},
   "outputs": [],
   "source": [
    "unique_urls = final_df[\"URL\"].unique()"
   ]
  },
  {
   "cell_type": "code",
   "execution_count": 39,
   "id": "d1633e1e",
   "metadata": {},
   "outputs": [],
   "source": [
    "with open(\"youtube_urls.txt\", \"w\") as f:\n",
    "    for url in unique_urls:\n",
    "        f.write(url + \"\\n\")"
   ]
  },
  {
   "cell_type": "code",
   "execution_count": null,
   "id": "c94dfa79",
   "metadata": {},
   "outputs": [],
   "source": []
  }
 ],
 "metadata": {
  "kernelspec": {
   "display_name": "finetunedexpert",
   "language": "python",
   "name": "python3"
  },
  "language_info": {
   "codemirror_mode": {
    "name": "ipython",
    "version": 3
   },
   "file_extension": ".py",
   "mimetype": "text/x-python",
   "name": "python",
   "nbconvert_exporter": "python",
   "pygments_lexer": "ipython3",
   "version": "3.10.11"
  }
 },
 "nbformat": 4,
 "nbformat_minor": 5
}
