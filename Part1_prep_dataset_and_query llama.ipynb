{
 "cells": [
  {
   "cell_type": "code",
   "execution_count": null,
   "id": "92de6a0b",
   "metadata": {},
   "outputs": [],
   "source": [
    "# #Disable SSL check\n",
    "# import ssl\n",
    "# ssl._create_default_https_context = ssl._create_unverified_context"
   ]
  },
  {
   "cell_type": "code",
   "execution_count": null,
   "id": "c1c7770c",
   "metadata": {},
   "outputs": [],
   "source": [
    "#For huggingface embeddings, run without this comment in cell\n",
    "pip install sentence-transformers"
   ]
  },
  {
   "cell_type": "code",
   "execution_count": null,
   "id": "214a4424",
   "metadata": {},
   "outputs": [
    {
     "name": "stderr",
     "output_type": "stream",
     "text": [
      "huggingface/tokenizers: The current process just got forked, after parallelism has already been used. Disabling parallelism to avoid deadlocks...\n",
      "To disable this warning, you can either:\n",
      "\t- Avoid using `tokenizers` before the fork if possible\n",
      "\t- Explicitly set the environment variable TOKENIZERS_PARALLELISM=(true | false)\n"
     ]
    },
    {
     "name": "stdout",
     "output_type": "stream",
     "text": [
      "Collecting faiss-cpu\n",
      "  Downloading faiss_cpu-1.11.0-cp310-cp310-macosx_14_0_arm64.whl.metadata (4.8 kB)\n",
      "Requirement already satisfied: numpy<3.0,>=1.25.0 in ./finetunedexpert/lib/python3.10/site-packages (from faiss-cpu) (1.26.4)\n",
      "Requirement already satisfied: packaging in ./finetunedexpert/lib/python3.10/site-packages (from faiss-cpu) (23.2)\n",
      "Downloading faiss_cpu-1.11.0-cp310-cp310-macosx_14_0_arm64.whl (3.3 MB)\n",
      "\u001b[2K   \u001b[90m━━━━━━━━━━━━━━━━━━━━━━━━━━━━━━━━━━━━━━━━\u001b[0m \u001b[32m3.3/3.3 MB\u001b[0m \u001b[31m1.2 MB/s\u001b[0m eta \u001b[36m0:00:00\u001b[0ma \u001b[36m0:00:01\u001b[0m\n",
      "\u001b[?25hInstalling collected packages: faiss-cpu\n",
      "Successfully installed faiss-cpu-1.11.0\n",
      "Note: you may need to restart the kernel to use updated packages.\n"
     ]
    }
   ],
   "source": [
    "#Was not originally included\n",
    "pip install faiss-cpu"
   ]
  },
  {
   "cell_type": "code",
   "execution_count": 1,
   "id": "42658034",
   "metadata": {},
   "outputs": [],
   "source": [
    "from langchain_community.document_loaders import YoutubeLoader\n",
    "from langchain.text_splitter import RecursiveCharacterTextSplitter\n",
    "from langchain.llms import Ollama\n",
    "from langchain.schema import Document\n",
    "import json\n",
    "from langchain.vectorstores import FAISS\n",
    "from langchain.embeddings import HuggingFaceEmbeddings\n",
    "from langchain.chains import RetrievalQA\n"
   ]
  },
  {
   "cell_type": "code",
   "execution_count": 2,
   "id": "719eb482",
   "metadata": {},
   "outputs": [],
   "source": [
    "loader = YoutubeLoader.from_youtube_url(\n",
    "    \"https://www.youtube.com/watch?v=KhFlD54nQrY&t=1205s\", add_video_info=False\n",
    ")"
   ]
  },
  {
   "cell_type": "code",
   "execution_count": 3,
   "id": "7ead6e32",
   "metadata": {},
   "outputs": [],
   "source": [
    "youtube_transcript = loader.load()"
   ]
  },
  {
   "cell_type": "code",
   "execution_count": 4,
   "id": "88f5936c",
   "metadata": {},
   "outputs": [],
   "source": [
    "def split_pages(pages):\n",
    "    text_splitter = RecursiveCharacterTextSplitter(\n",
    "    chunk_size=2000,\n",
    "    chunk_overlap=300,\n",
    "    separators=[\"\\n\\n\", \"\\n\", \" \", \"\"]\n",
    "    )\n",
    "\n",
    "    docs = text_splitter.split_documents(pages)\n",
    "    return docs"
   ]
  },
  {
   "cell_type": "code",
   "execution_count": 5,
   "id": "bc497556",
   "metadata": {},
   "outputs": [],
   "source": [
    "pages = split_pages(youtube_transcript)"
   ]
  },
  {
   "cell_type": "code",
   "execution_count": 6,
   "id": "a6dc38d4",
   "metadata": {},
   "outputs": [
    {
     "data": {
      "text/plain": [
       "[Document(page_content=\"I've been in business for 13 years I've sold nine companies my last company I sold for 46.2 million I own acquisition. comom which right now does about $17 million a month across our portfolio I'm going to compress 13 years of brutal business truths and lessons into this one video brutal business truth number one sell to rich people until you have the money to sell all the poor people the middle is where you get killed Elon said you can either do a lot of good for a small amount of people or a little good for a large amount of people and I will tell you personally it's way hard to do a little good for a lot of people than a lot of good for a small amount of people there is a reason that Tesla started at the top they started only selling to rich people they had the Roadster which was $250,000 and so they sold those and then he was able to go down Market one and sell $100,000 cars to just upper Ash line of society the wealthy and then after that he made the X which is a little bit cheaper than that and then underneath of that he made the model 3 which was going to be the mass model right and each time it was significantly harder to do the one before because if if you want to sell based on value in terms of low cost you need to build the infrastructure for huge amounts of demand because the only way that you make money selling to poor people is selling tons and tons and tons of them look at Walmart look at Amazon these are businesses that were built for volume day one and they win on efficiency that was the whole point Amazon he wanted to have the best selection and the lowest prices Walmart everyday low prices they want they win on efficiencies like they all fly coach they use fold out cheairs they drink out of paper cups they purposely breed the culture of efficiency because it's the only way that you can win if you sell to poor people and I say poor people to be hyperbolic in terms of my language so that it drives the point home obviously I buy from Amazon but the\", metadata={'source': 'KhFlD54nQrY'}),\n",
       " Document(page_content=\"use fold out cheairs they drink out of paper cups they purposely breed the culture of efficiency because it's the only way that you can win if you sell to poor people and I say poor people to be hyperbolic in terms of my language so that it drives the point home obviously I buy from Amazon but the point is is that the strategy is based on volume and you've probably heard some of my other tweets around this which is solve rich people problems they pay better or if you solve rich people problems you get to charge rich people prices this is what I think the key Insight is is that to someone who only has $11,000 when they pay you $100 they pay you 10% of their net worth their expectations of what they're going to get for that $100 is the same as a rich person giving you 10 million of their $100 million it would be gigantic right in terms of their expectations but getting a rich person to give you $100 they might have you notice and so the thing is is that it's actually easier in some ways to solve rich people problems because they're willing to pay more in an absolute sense for lower relative value and so with that extra profit or gross margin you can absolutely overd deliver for them and still make money and not have to learn all these things with infrastructure so for example if I wanted to start a bank I would have to have $25 to $100 million to start it up but if you do that then you have to build the infrastructure that you can handle money for zillions and zillions and zillions of people a very hard business to get into and so the idea is that you want to sell at least this is my belief is that you want to sell premium you want to sell s to wealthy people you want to sell to a niche person that you can do a lot of good for in a very small slice because you don't have to compete against everyone you can have inefficiencies and still make money without having to have tremendous infrastructure and skill around building it once you make a ton of money doing that you\", metadata={'source': 'KhFlD54nQrY'}),\n",
       " Document(page_content=\"to a niche person that you can do a lot of good for in a very small slice because you don't have to compete against everyone you can have inefficiencies and still make money without having to have tremendous infrastructure and skill around building it once you make a ton of money doing that you can obviously just do more of that which big fan or you say you know what the next thing I do I want to do for zillions and zillions of people and so then you build a business like a Netflix that think about how insane Netflix is just as a concept you pay $13 or $15 a month or whatever it is now and they create movies and shows and they spend millions of dollars and they sign Comedians and they've got all these shows that are streaming and you pay $14 a month it's absurd think about if you were said hey Mom and Dad I want to start this Video subscription and I'm going to just pay millions of dollars to get all these shows and movies made for us and I'm just going to charge 14 bucks it would be absurd that's how much value you have to provide to someone who doesn't have money to capture huge slices of the market how are you going to beat Prime $99 a year or 129 a year whatever it is now right and with prime you get basically all Netflix with Prime video you also have next day shipping same day shipping with anything that you want to buy 99 bucks a year $129 a year if you build to sell to the masses you need to build like you're going to sell to the masses and you're usually going to have to put a ton of money in for a long period of time because you have to have that infrastructure upfront to deal with that volume to have such a crazy value discrepancy that someone who has no money still never wants to cancel that's the key whereas if you go to wealthier people you can get a premium you can have five clients that all pay you $5,000 a month and make an amazing income and have the resources to actually do a good job and hire a couple people to help you out who are competent and\", metadata={'source': 'KhFlD54nQrY'}),\n",
       " Document(page_content=\"still never wants to cancel that's the key whereas if you go to wealthier people you can get a premium you can have five clients that all pay you $5,000 a month and make an amazing income and have the resources to actually do a good job and hire a couple people to help you out who are competent and you can do that when you charge more money and those people are not the ones who are like and everybody's hurt seen this me where the $50 month customer is like hey so for this $50 a month what am I going to get now we make fun of that that's the reality of if you're taking 5% of someone's paycheck it means a lot to them whereas if you're going to somebody who's making a million a month and they pay you five grand if they get one good thing a year they're stoked and they're like oh yeah I sent the wire did you get it like the difference between working with somebody who's on the lower end versus the higher end and so being very clear about who you serve not not serving other people going down Market only if you have the infrastructure to support huge amounts of volume and usually the capital to front it either you build for volume day one and win on efficiency like Amazon or Walmart or you build for a premium which means you Niche down and you completely solve problems for people so you completely solve a problem in a very narrow Niche and so let me give you a completely polar opposite examples here which I literally live on both sides of the spectrum on one side acquisition. comom is my premium brand right this is the brand that we do deals with this is where we have hundred million companies and stuff that we invest in that we own in right that's my family office and we do one or two deals a year just to being really real we make very rich people way wealthier right that's what I do there so someone comes in is already worth 50 million bucks and we're like cool how do we get to 250 and that's what we invest in that's what we we scale the company on the Other Extreme\", metadata={'source': 'KhFlD54nQrY'}),\n",
       " Document(page_content=\"one or two deals a year just to being really real we make very rich people way wealthier right that's what I do there so someone comes in is already worth 50 million bucks and we're like cool how do we get to 250 and that's what we invest in that's what we we scale the company on the Other Extreme we've got school so school is for everyone who's starting out now School took 5 years to get to the level of product that it is now and millions and tens of millions of dollars of development where it lost money the entire time and still loses money right now in order to create such an absurd value for the 99 bucks a month or whatever it is because we know that that $99 a month for somebody who's trying to start their business that's the entirety of their business budget and so we have to solve all of the business problems that those people have at that level and so these are two completely this I mean honestly the most polar extremes of value Creation in terms of who we're selling to or who we advertise to and who we're attracting and how we help them and so there's no coincidence that I did acquisition. comom before investing in being a co-owner of school because I had to make enough money to be able to afford to sell to people who don't have much to be able to to help build the infrastructure and invest millions of dollars to build that so that we could accommodate millions and millions of users right now we have many millions of users on the the platform if you are confused about how to sell rich people stuff first off the easiest hack for selling a rich people is do what somebody else is doing that sells to rich people and do it in half the time and charge twice the price number one rich people pay for time Above All Else But if we look at the value equation you've got the outcom so you got to make sure they want the outcome that you're promising and you got the three other variables you've got risk How likely is it that they're going to get what they want when they\", metadata={'source': 'KhFlD54nQrY'})]"
      ]
     },
     "execution_count": 6,
     "metadata": {},
     "output_type": "execute_result"
    }
   ],
   "source": [
    "pages[0:5]"
   ]
  },
  {
   "cell_type": "code",
   "execution_count": 7,
   "id": "223dd136",
   "metadata": {},
   "outputs": [],
   "source": [
    "llm = Ollama(model=\"llama3.1:8b\")"
   ]
  },
  {
   "cell_type": "code",
   "execution_count": 8,
   "id": "7abc8c5c",
   "metadata": {},
   "outputs": [],
   "source": [
    "def local_llm(prompt: str, llm) -> str:\n",
    "    \"\"\"\n",
    "    Sends a prompt to the LangChain Ollama LLM instance and returns the response.\n",
    "    \"\"\"\n",
    "    try:\n",
    "        return llm.invoke(prompt).strip()\n",
    "    except Exception as e:\n",
    "        print(\"Error invoking model:\", e)\n",
    "        return \"\"\n"
   ]
  },
  {
   "cell_type": "code",
   "execution_count": 9,
   "id": "2d352d03",
   "metadata": {},
   "outputs": [],
   "source": [
    "def process_chunk_to_alpaca(doc: Document, llm) -> dict:\n",
    "    # Extract metadata from the LangChain Document\n",
    "    source_name = doc.metadata.get(\"source\", \"Unknown Name\")\n",
    "\n",
    "    # Inject metadata into prompt\n",
    "    instruction_with_metadata = f\"\"\"\n",
    "You are a business assistant analyzing raw business content from the following source:\n",
    "SOURCE NAME: {source_name}\n",
    "\n",
    "Your task is to extract the following from the provided transcript:\n",
    "1. Frameworks (e.g., naming, advertising, validation models).\n",
    "2. Bullet points for key ideas or steps.\n",
    "3. Q&A (any implied or stated questions with answers).\n",
    "4. Case Examples or stories.\n",
    "5. Copywriting formulas (AIDA, PAS, etc.)\n",
    "6. Classify this content into high-level topics: e.g., Naming, Ads, Psychology, Copywriting.\n",
    "7. Convert suitable content into a step-by-step guide.\n",
    "\n",
    "Return your output in clearly labeled sections, and only include sections with relevant content. Do not include a preamble.\n",
    "\"\"\".strip()\n",
    "\n",
    "    prompt = f\"{instruction_with_metadata}\\n\\n{doc.page_content.strip()}\"\n",
    "    response = local_llm(prompt, llm)\n",
    "\n",
    "    return {\n",
    "        \"instruction\": instruction_with_metadata,\n",
    "        \"input\": doc.page_content.strip(),\n",
    "        \"output\": response,\n",
    "        \"metadata\": doc.metadata\n",
    "    }\n"
   ]
  },
  {
   "cell_type": "code",
   "execution_count": 10,
   "id": "ec2793c1",
   "metadata": {},
   "outputs": [],
   "source": [
    "alpaca_data = []\n",
    "\n",
    "for doc in pages[0:5]:  # each doc is a langchain Document\n",
    "    alpaca_entry = process_chunk_to_alpaca(doc, llm)\n",
    "    alpaca_data.append(alpaca_entry)"
   ]
  },
  {
   "cell_type": "code",
   "execution_count": 11,
   "id": "71f66dec",
   "metadata": {},
   "outputs": [
    {
     "data": {
      "text/plain": [
       "[{'instruction': 'You are a business assistant analyzing raw business content from the following source:\\nSOURCE NAME: KhFlD54nQrY\\n\\nYour task is to extract the following from the provided transcript:\\n1. Frameworks (e.g., naming, advertising, validation models).\\n2. Bullet points for key ideas or steps.\\n3. Q&A (any implied or stated questions with answers).\\n4. Case Examples or stories.\\n5. Copywriting formulas (AIDA, PAS, etc.)\\n6. Classify this content into high-level topics: e.g., Naming, Ads, Psychology, Copywriting.\\n7. Convert suitable content into a step-by-step guide.\\n\\nReturn your output in clearly labeled sections, and only include sections with relevant content. Do not include a preamble.',\n",
       "  'input': \"I've been in business for 13 years I've sold nine companies my last company I sold for 46.2 million I own acquisition. comom which right now does about $17 million a month across our portfolio I'm going to compress 13 years of brutal business truths and lessons into this one video brutal business truth number one sell to rich people until you have the money to sell all the poor people the middle is where you get killed Elon said you can either do a lot of good for a small amount of people or a little good for a large amount of people and I will tell you personally it's way hard to do a little good for a lot of people than a lot of good for a small amount of people there is a reason that Tesla started at the top they started only selling to rich people they had the Roadster which was $250,000 and so they sold those and then he was able to go down Market one and sell $100,000 cars to just upper Ash line of society the wealthy and then after that he made the X which is a little bit cheaper than that and then underneath of that he made the model 3 which was going to be the mass model right and each time it was significantly harder to do the one before because if if you want to sell based on value in terms of low cost you need to build the infrastructure for huge amounts of demand because the only way that you make money selling to poor people is selling tons and tons and tons of them look at Walmart look at Amazon these are businesses that were built for volume day one and they win on efficiency that was the whole point Amazon he wanted to have the best selection and the lowest prices Walmart everyday low prices they want they win on efficiencies like they all fly coach they use fold out cheairs they drink out of paper cups they purposely breed the culture of efficiency because it's the only way that you can win if you sell to poor people and I say poor people to be hyperbolic in terms of my language so that it drives the point home obviously I buy from Amazon but the\",\n",
       "  'output': '**Frameworks**\\n\\n* The \"Rich-Poor\" framework: selling to rich people first, then moving down to middle class and finally poor people\\n* Value-based pricing vs. low-cost pricing\\n* Infrastructure for demand management (for volume sales)\\n\\n**Bullet Points for Key Ideas or Steps**\\n\\n* Sell to rich people until you have the money to sell to all people\\n* Tesla\\'s strategy: starting with high-end products (Roadster) and gradually moving downmarket\\n* Focus on value-based pricing in niche markets, rather than low-cost pricing for mass market\\n* Build infrastructure for huge amounts of demand when selling to poor people\\n\\n**Q&A**\\n\\n* Implied question: \"Why did Tesla start by selling only to rich people?\"\\nAnswer: To validate their product and build a strong reputation before moving downmarket.\\n\\n**Case Examples or Stories**\\n\\n* Tesla\\'s success in starting with high-end products (Roadster) and gradually moving downmarket\\n* Amazon\\'s focus on efficiency and volume sales\\n\\n**Copywriting Formulas**\\n\\nNone explicitly mentioned, but the concept of AIDA (Attention-Interest-Desire-Action) is implied through the emphasis on value-based pricing and creating a strong reputation.\\n\\n**High-Level Topics**\\n\\n* Naming: None\\n* Ads: None\\n* Psychology: Value-based pricing vs. low-cost pricing\\n* Copywriting: Emphasis on value-based pricing and reputation-building\\n\\n**Step-by-Step Guide**\\n\\n1. **Identify your target audience**: Start by selling to rich people who are willing to pay a premium for high-quality products or services.\\n2. **Validate your product**: Use the initial sales to rich people as a way to validate your product and build a strong reputation.\\n3. **Build infrastructure for demand management**: When you have enough money, move on to sell to middle-class consumers by building infrastructure for huge amounts of demand (e.g., Amazon\\'s focus on efficiency).\\n4. **Gradually move downmarket**: Use the revenue generated from selling to rich people and middle-class consumers to fund your expansion into lower-cost markets.\\n5. **Focus on value-based pricing**: Emphasize the unique benefits and value proposition of your product or service in niche markets, rather than competing solely on price.',\n",
       "  'metadata': {'source': 'KhFlD54nQrY'}},\n",
       " {'instruction': 'You are a business assistant analyzing raw business content from the following source:\\nSOURCE NAME: KhFlD54nQrY\\n\\nYour task is to extract the following from the provided transcript:\\n1. Frameworks (e.g., naming, advertising, validation models).\\n2. Bullet points for key ideas or steps.\\n3. Q&A (any implied or stated questions with answers).\\n4. Case Examples or stories.\\n5. Copywriting formulas (AIDA, PAS, etc.)\\n6. Classify this content into high-level topics: e.g., Naming, Ads, Psychology, Copywriting.\\n7. Convert suitable content into a step-by-step guide.\\n\\nReturn your output in clearly labeled sections, and only include sections with relevant content. Do not include a preamble.',\n",
       "  'input': \"use fold out cheairs they drink out of paper cups they purposely breed the culture of efficiency because it's the only way that you can win if you sell to poor people and I say poor people to be hyperbolic in terms of my language so that it drives the point home obviously I buy from Amazon but the point is is that the strategy is based on volume and you've probably heard some of my other tweets around this which is solve rich people problems they pay better or if you solve rich people problems you get to charge rich people prices this is what I think the key Insight is is that to someone who only has $11,000 when they pay you $100 they pay you 10% of their net worth their expectations of what they're going to get for that $100 is the same as a rich person giving you 10 million of their $100 million it would be gigantic right in terms of their expectations but getting a rich person to give you $100 they might have you notice and so the thing is is that it's actually easier in some ways to solve rich people problems because they're willing to pay more in an absolute sense for lower relative value and so with that extra profit or gross margin you can absolutely overd deliver for them and still make money and not have to learn all these things with infrastructure so for example if I wanted to start a bank I would have to have $25 to $100 million to start it up but if you do that then you have to build the infrastructure that you can handle money for zillions and zillions and zillions of people a very hard business to get into and so the idea is that you want to sell at least this is my belief is that you want to sell premium you want to sell s to wealthy people you want to sell to a niche person that you can do a lot of good for in a very small slice because you don't have to compete against everyone you can have inefficiencies and still make money without having to have tremendous infrastructure and skill around building it once you make a ton of money doing that you\",\n",
       "  'output': '**Frameworks:**\\n\\n* **Niche marketing:** Targeting wealthy individuals with premium products or services\\n* **Value-based pricing:** Charging high prices for lower relative value to customers, while providing exceptional service\\n* **Volume strategy:** Focusing on sales volume rather than individual customer profitability\\n\\n**Bullet Points for Key Ideas or Steps:**\\n\\n* Identify a niche market (wealthy individuals) and create premium products/services tailored to their needs\\n* Use value-based pricing to charge high prices for lower relative value, while providing exceptional service\\n* Focus on sales volume rather than individual customer profitability\\n* Avoid competing with established businesses by targeting a specific niche\\n\\n**Q&A:**\\n\\n* Q: Why target wealthy individuals?\\nA: To take advantage of their willingness to pay more in absolute terms for lower relative value\\n* Q: What are the benefits of focusing on premium products/services?\\nA: Easier to deliver high-quality service without needing extensive infrastructure and skill\\n\\n**Case Examples or Stories:**\\n\\n* The example of buying from Amazon, which illustrates the volume strategy of selling to a large customer base\\n* Starting a bank as an example of a difficult business to enter due to required infrastructure and skills\\n\\n**Copywriting Formulas:**\\n\\nNone explicitly mentioned, but the AIDA formula is implied in the discussion of value-based pricing:\\n\\nA - Attention (targeting wealthy individuals)\\nI - Interest (creating premium products/services tailored to their needs)\\nD - Desire (providing exceptional service at a high price point)\\nA - Action (focusing on sales volume rather than individual customer profitability)\\n\\n**High-Level Topics:**\\n\\n* **Niche marketing:** Targeting specific groups, such as wealthy individuals\\n* **Copywriting:** Value-based pricing and premium products/services\\n* **Psychology:** Understanding customer expectations and willingness to pay\\n* **Business Strategy:** Focusing on volume sales rather than individual customer profitability\\n\\n**Step-by-Step Guide:**\\n\\n1. Identify a niche market (wealthy individuals) with specific needs and preferences.\\n2. Create premium products or services tailored to their requirements, providing exceptional service.\\n3. Use value-based pricing to charge high prices for lower relative value, while delivering high-quality service.\\n4. Focus on sales volume rather than individual customer profitability.\\n5. Avoid competing with established businesses by targeting a specific niche.',\n",
       "  'metadata': {'source': 'KhFlD54nQrY'}},\n",
       " {'instruction': 'You are a business assistant analyzing raw business content from the following source:\\nSOURCE NAME: KhFlD54nQrY\\n\\nYour task is to extract the following from the provided transcript:\\n1. Frameworks (e.g., naming, advertising, validation models).\\n2. Bullet points for key ideas or steps.\\n3. Q&A (any implied or stated questions with answers).\\n4. Case Examples or stories.\\n5. Copywriting formulas (AIDA, PAS, etc.)\\n6. Classify this content into high-level topics: e.g., Naming, Ads, Psychology, Copywriting.\\n7. Convert suitable content into a step-by-step guide.\\n\\nReturn your output in clearly labeled sections, and only include sections with relevant content. Do not include a preamble.',\n",
       "  'input': \"to a niche person that you can do a lot of good for in a very small slice because you don't have to compete against everyone you can have inefficiencies and still make money without having to have tremendous infrastructure and skill around building it once you make a ton of money doing that you can obviously just do more of that which big fan or you say you know what the next thing I do I want to do for zillions and zillions of people and so then you build a business like a Netflix that think about how insane Netflix is just as a concept you pay $13 or $15 a month or whatever it is now and they create movies and shows and they spend millions of dollars and they sign Comedians and they've got all these shows that are streaming and you pay $14 a month it's absurd think about if you were said hey Mom and Dad I want to start this Video subscription and I'm going to just pay millions of dollars to get all these shows and movies made for us and I'm just going to charge 14 bucks it would be absurd that's how much value you have to provide to someone who doesn't have money to capture huge slices of the market how are you going to beat Prime $99 a year or 129 a year whatever it is now right and with prime you get basically all Netflix with Prime video you also have next day shipping same day shipping with anything that you want to buy 99 bucks a year $129 a year if you build to sell to the masses you need to build like you're going to sell to the masses and you're usually going to have to put a ton of money in for a long period of time because you have to have that infrastructure upfront to deal with that volume to have such a crazy value discrepancy that someone who has no money still never wants to cancel that's the key whereas if you go to wealthier people you can get a premium you can have five clients that all pay you $5,000 a month and make an amazing income and have the resources to actually do a good job and hire a couple people to help you out who are competent and\",\n",
       "  'output': \"**Frameworks**\\n\\n* Building for the masses vs. building for a niche person\\n* High-value, low-cost model (e.g., Netflix)\\n* Infrastructure requirements for large-scale businesses\\n* Valuation discrepancies between premium and non-premium customers\\n\\n**Bullet Points for Key Ideas or Steps**\\n\\n* Target a specific niche to avoid competition and inefficiencies\\n* Focus on providing high value at a low cost to attract and retain customers\\n* Consider a subscription-based model (e.g., Netflix, Prime)\\n* Build infrastructure accordingly (volume, pricing, staffing)\\n\\n**Q&A**\\n\\n* Question: How do I compete with Amazon's Prime?\\nAnswer: You need to provide exceptional value at a low cost, like Netflix.\\n* Question: Is it worth targeting the masses or a specific niche?\\nAnswer: Targeting a niche allows for more efficient operations and higher profits.\\n\\n**Case Examples or Stories**\\n\\n* Netflix as an example of providing high value at a low cost\\n* Amazon's Prime as an example of competing with high-value, low-cost models\\n\\n**Copywriting Formulas**\\n\\nNone explicitly mentioned\\n\\n**High-Level Topics**\\n\\n1. **Niche Marketing**: Targeting specific niches to avoid competition and inefficiencies\\n2. **Value-Based Pricing**: Providing exceptional value at a low cost to attract and retain customers\\n3. **Infrastructure Requirements**: Building infrastructure accordingly for large-scale businesses (volume, pricing, staffing)\\n\\n**Step-by-Step Guide**\\n\\n1. Identify a specific niche or target market.\\n2. Determine the value proposition for this niche: what unique benefits will you offer?\\n3. Develop a high-value, low-cost model (e.g., subscription-based).\\n4. Build infrastructure accordingly to accommodate your chosen business scale.\\n5. Focus on providing exceptional customer experience and service.\\n6. Continuously evaluate and refine your pricing strategy to maintain competitiveness.\",\n",
       "  'metadata': {'source': 'KhFlD54nQrY'}},\n",
       " {'instruction': 'You are a business assistant analyzing raw business content from the following source:\\nSOURCE NAME: KhFlD54nQrY\\n\\nYour task is to extract the following from the provided transcript:\\n1. Frameworks (e.g., naming, advertising, validation models).\\n2. Bullet points for key ideas or steps.\\n3. Q&A (any implied or stated questions with answers).\\n4. Case Examples or stories.\\n5. Copywriting formulas (AIDA, PAS, etc.)\\n6. Classify this content into high-level topics: e.g., Naming, Ads, Psychology, Copywriting.\\n7. Convert suitable content into a step-by-step guide.\\n\\nReturn your output in clearly labeled sections, and only include sections with relevant content. Do not include a preamble.',\n",
       "  'input': \"still never wants to cancel that's the key whereas if you go to wealthier people you can get a premium you can have five clients that all pay you $5,000 a month and make an amazing income and have the resources to actually do a good job and hire a couple people to help you out who are competent and you can do that when you charge more money and those people are not the ones who are like and everybody's hurt seen this me where the $50 month customer is like hey so for this $50 a month what am I going to get now we make fun of that that's the reality of if you're taking 5% of someone's paycheck it means a lot to them whereas if you're going to somebody who's making a million a month and they pay you five grand if they get one good thing a year they're stoked and they're like oh yeah I sent the wire did you get it like the difference between working with somebody who's on the lower end versus the higher end and so being very clear about who you serve not not serving other people going down Market only if you have the infrastructure to support huge amounts of volume and usually the capital to front it either you build for volume day one and win on efficiency like Amazon or Walmart or you build for a premium which means you Niche down and you completely solve problems for people so you completely solve a problem in a very narrow Niche and so let me give you a completely polar opposite examples here which I literally live on both sides of the spectrum on one side acquisition. comom is my premium brand right this is the brand that we do deals with this is where we have hundred million companies and stuff that we invest in that we own in right that's my family office and we do one or two deals a year just to being really real we make very rich people way wealthier right that's what I do there so someone comes in is already worth 50 million bucks and we're like cool how do we get to 250 and that's what we invest in that's what we we scale the company on the Other Extreme\",\n",
       "  'output': '**Frameworks**\\n\\n* The \"Premium vs. Volume\" framework, where businesses can choose between:\\n\\t+ Building for volume and winning on efficiency (e.g., Amazon or Walmart)\\n\\t+ Niche down and solving problems for a specific audience (premium model)\\n\\n**Bullet Points for Key Ideas or Steps**\\n\\n* The key to success lies in understanding your target market and serving them effectively\\n* Be clear about who you serve, as it\\'s easier to solve problems for a smaller, more specific group rather than trying to cater to everyone\\n* There are two primary business models:\\n\\t+ Building for volume and winning on efficiency (e.g., Amazon or Walmart)\\n\\t+ Niche down and solving problems for a specific audience (premium model)\\n\\n**Q&A**\\n\\n* Q: What\\'s the key difference between working with lower-end and higher-end clients?\\nA: The value proposition is different; lower-end clients need more affordable options, while higher-end clients are willing to pay premium prices for exceptional service.\\n* Q: How do you determine which business model to use (volume or premium)?\\nA: It depends on your infrastructure and ability to support large volumes of customers.\\n\\n**Case Examples or Stories**\\n\\n* The speaker\\'s own experience with Acquisition.com (premium brand) vs. their other projects, where they work with lower-end clients\\n* The example of investing in companies to help make wealthy individuals even wealthier\\n\\n**Copywriting Formulas**\\n\\nNone mentioned directly, but the concepts discussed relate to persuasive and effective communication, which is a key aspect of copywriting.\\n\\n**High-Level Topics**\\n\\n* **Niche Down**: Understanding your target market and serving them effectively\\n* **Premium vs. Volume**: Choosing between building for volume or niche down and solving problems for a specific audience\\n\\n**Step-by-Step Guide**\\n\\n1. Determine your target market and understand their needs.\\n2. Choose a business model: either build for volume and win on efficiency, or niche down and solve problems for a specific audience.\\n3. Be clear about who you serve and tailor your services accordingly.\\n4. If choosing the premium model:\\n\\t+ Niche down to a very specific audience\\n\\t+ Completely solve problems for this audience\\n5. If choosing the volume model:\\n\\t+ Build infrastructure to support large volumes of customers\\n\\t+ Win on efficiency',\n",
       "  'metadata': {'source': 'KhFlD54nQrY'}},\n",
       " {'instruction': 'You are a business assistant analyzing raw business content from the following source:\\nSOURCE NAME: KhFlD54nQrY\\n\\nYour task is to extract the following from the provided transcript:\\n1. Frameworks (e.g., naming, advertising, validation models).\\n2. Bullet points for key ideas or steps.\\n3. Q&A (any implied or stated questions with answers).\\n4. Case Examples or stories.\\n5. Copywriting formulas (AIDA, PAS, etc.)\\n6. Classify this content into high-level topics: e.g., Naming, Ads, Psychology, Copywriting.\\n7. Convert suitable content into a step-by-step guide.\\n\\nReturn your output in clearly labeled sections, and only include sections with relevant content. Do not include a preamble.',\n",
       "  'input': \"one or two deals a year just to being really real we make very rich people way wealthier right that's what I do there so someone comes in is already worth 50 million bucks and we're like cool how do we get to 250 and that's what we invest in that's what we we scale the company on the Other Extreme we've got school so school is for everyone who's starting out now School took 5 years to get to the level of product that it is now and millions and tens of millions of dollars of development where it lost money the entire time and still loses money right now in order to create such an absurd value for the 99 bucks a month or whatever it is because we know that that $99 a month for somebody who's trying to start their business that's the entirety of their business budget and so we have to solve all of the business problems that those people have at that level and so these are two completely this I mean honestly the most polar extremes of value Creation in terms of who we're selling to or who we advertise to and who we're attracting and how we help them and so there's no coincidence that I did acquisition. comom before investing in being a co-owner of school because I had to make enough money to be able to afford to sell to people who don't have much to be able to to help build the infrastructure and invest millions of dollars to build that so that we could accommodate millions and millions of users right now we have many millions of users on the the platform if you are confused about how to sell rich people stuff first off the easiest hack for selling a rich people is do what somebody else is doing that sells to rich people and do it in half the time and charge twice the price number one rich people pay for time Above All Else But if we look at the value equation you've got the outcom so you got to make sure they want the outcome that you're promising and you got the three other variables you've got risk How likely is it that they're going to get what they want when they\",\n",
       "  'output': \"**Frameworks:**\\n\\n* Value Creation Framework (polar extremes of value creation)\\n* Acquisition Cost Model (making enough money to sell to people who don't have much)\\n\\n**Bullet Points for Key Ideas or Steps:**\\n\\n* To create an absurd value for customers, solve all their business problems at a low budget\\n* Identify the target audience and tailor marketing efforts accordingly (rich vs. non-rich individuals)\\n* Rich people pay for time above all else\\n* Value Equation:\\n\\t+ Outcome (make sure they want what you're promising)\\n\\t+ Risk (how likely is it that they'll get what they want)\\n\\t+ Cost (how much will it cost them to achieve the outcome)\\n\\n**Q&A:**\\n\\nNone explicitly stated, but some implied questions and answers:\\n\\n* Q: How do I sell to rich people?\\nA: Do what somebody else is doing that sells to rich people, but do it in half the time and charge twice the price.\\n* Q: What's the key difference between selling to rich people and non-rich individuals?\\nA: The value equation (outcome, risk, cost) changes; rich people prioritize outcome and are willing to pay for time.\\n\\n**Case Examples or Stories:**\\n\\n* School platform example:\\n\\t+ Took 5 years to develop\\n\\t+ Lost money initially, but created an absurd value for customers at $99/month\\n\\t+ Now has millions of users\\n\\n**Copywriting Formulas:**\\n\\nNone explicitly stated, but the Value Equation is a copywriting-related concept.\\n\\n**High-Level Topics:**\\n\\n* Naming: None\\n* Ads: None\\n* Psychology: Rich people's behavior and motivations (e.g., prioritizing outcome and time)\\n* Copywriting: Value Equation\\n* Marketing Strategy: Polar extremes of value creation, targeting rich vs. non-rich individuals\\n\\n**Step-by-Step Guide:**\\n\\n1. Identify your target audience (rich or non-rich individuals).\\n2. Develop a value equation for your product/service:\\n\\t+ Outcome: Make sure they want what you're promising.\\n\\t+ Risk: How likely is it that they'll get what they want?\\n\\t+ Cost: How much will it cost them to achieve the outcome.\\n3. Tailor your marketing efforts to your target audience, using a polarized value creation strategy (rich vs. non-rich individuals).\\n4. For selling to rich people:\\n\\t+ Do what somebody else is doing that sells to rich people, but do it in half the time and charge twice the price.\\n\\t+ Emphasize outcome and prioritize client's time above all else.\",\n",
       "  'metadata': {'source': 'KhFlD54nQrY'}}]"
      ]
     },
     "execution_count": 11,
     "metadata": {},
     "output_type": "execute_result"
    }
   ],
   "source": [
    "alpaca_data"
   ]
  },
  {
   "cell_type": "code",
   "execution_count": 12,
   "id": "a89d6738",
   "metadata": {},
   "outputs": [],
   "source": [
    "def alpaca_to_documents(alpaca_data):\n",
    "    docs = []\n",
    "    for entry in alpaca_data:\n",
    "        metadata = {\n",
    "            \"instruction\": entry.get(\"instruction\", \"\"),\n",
    "            \"input\": entry.get(\"input\", \"\")\n",
    "        }\n",
    "        docs.append(Document(page_content=entry[\"output\"], metadata=metadata))\n",
    "    return docs"
   ]
  },
  {
   "cell_type": "code",
   "execution_count": 13,
   "id": "d8151a94",
   "metadata": {},
   "outputs": [
    {
     "name": "stderr",
     "output_type": "stream",
     "text": [
      "/Users/hitesh.modi/Desktop/Kinda Personal/LLM Finetuning Expert/finetunedexpert/lib/python3.10/site-packages/tqdm/auto.py:21: TqdmWarning: IProgress not found. Please update jupyter and ipywidgets. See https://ipywidgets.readthedocs.io/en/stable/user_install.html\n",
      "  from .autonotebook import tqdm as notebook_tqdm\n"
     ]
    }
   ],
   "source": [
    "embedding = HuggingFaceEmbeddings(\n",
    "    model_name=\"all-MiniLM-L6-v2\"\n",
    "    ) "
   ]
  },
  {
   "cell_type": "code",
   "execution_count": 14,
   "id": "3731082e",
   "metadata": {},
   "outputs": [],
   "source": [
    "embedding = embedding\n",
    "docs = alpaca_to_documents(alpaca_data)\n",
    "vectorstore = FAISS.from_documents(docs, embedding)"
   ]
  },
  {
   "cell_type": "code",
   "execution_count": 15,
   "id": "89654fb4",
   "metadata": {},
   "outputs": [],
   "source": [
    "qa_chain = RetrievalQA.from_chain_type(\n",
    "    llm=llm,\n",
    "    chain_type=\"stuff\",\n",
    "    retriever=vectorstore.as_retriever()\n",
    ")\n"
   ]
  },
  {
   "cell_type": "code",
   "execution_count": null,
   "id": "a543c2a8",
   "metadata": {},
   "outputs": [],
   "source": [
    "\"\"\"\n",
    "I like gemma more, this i believe is prompted ot be softer, and takes about the same time as gemma so lets go for gemma!\n",
    "\"\"\""
   ]
  },
  {
   "cell_type": "code",
   "execution_count": 16,
   "id": "025c950d",
   "metadata": {},
   "outputs": [
    {
     "name": "stderr",
     "output_type": "stream",
     "text": [
      "/Users/hitesh.modi/Desktop/Kinda Personal/LLM Finetuning Expert/finetunedexpert/lib/python3.10/site-packages/langchain_core/_api/deprecation.py:119: LangChainDeprecationWarning: The method `Chain.run` was deprecated in langchain 0.1.0 and will be removed in 0.3.0. Use invoke instead.\n",
      "  warn_deprecated(\n"
     ]
    },
    {
     "name": "stdout",
     "output_type": "stream",
     "text": [
      "\n",
      "🔍 Answer from local model:\n",
      "Based on the provided context, it appears that targeting rich people is a recommended approach for several reasons:\n",
      "\n",
      "1. Rich people are willing to pay more for high-quality products and services.\n",
      "2. They prioritize outcome and time above all else, making them more likely to invest in premium solutions.\n",
      "3. By focusing on value-based pricing and providing exceptional service, you can charge higher prices while delivering lower relative value.\n",
      "\n",
      "However, it's essential to note that this approach is only suitable for certain businesses or niches. If your product or service caters primarily to a mass market or has low profit margins, targeting rich people might not be the best strategy.\n",
      "\n",
      "To answer the question more directly: Targeting rich people can be an effective approach, but it depends on your specific business and target audience.\n"
     ]
    }
   ],
   "source": [
    "query = \"Should we target to sell to rich people or otheerwise?\"\n",
    "response = qa_chain.run(query)\n",
    "\n",
    "print(\"\\n🔍 Answer from local model:\")\n",
    "print(response)\n"
   ]
  },
  {
   "cell_type": "code",
   "execution_count": 17,
   "id": "c41a7b84",
   "metadata": {},
   "outputs": [
    {
     "name": "stdout",
     "output_type": "stream",
     "text": [
      "\n",
      "🔍 Answer from local model:\n",
      "It means starting by targeting high-end customers or \"rich people\" who are willing to pay premium prices for your product or service. This approach allows you to generate revenue and build credibility before scaling down to serve a broader, less affluent market. By initially focusing on high-value sales, you can:\n",
      "\n",
      "1. Validate your product and build trust with your target audience.\n",
      "2. Gather feedback and refine your offerings based on customer needs.\n",
      "3. Develop the infrastructure and resources needed to expand your business successfully.\n",
      "\n",
      "By doing so, you'll create a solid foundation for growth, allowing you to eventually move into lower-cost markets or serve less affluent customers without sacrificing profitability.\n"
     ]
    }
   ],
   "source": [
    "query = \"What does it mean to sell to the rich until you can afoford to seel to the poor?\"\n",
    "response = qa_chain.run(query)\n",
    "\n",
    "print(\"\\n🔍 Answer from local model:\")\n",
    "print(response)\n"
   ]
  },
  {
   "cell_type": "code",
   "execution_count": null,
   "id": "f6c0753e",
   "metadata": {},
   "outputs": [],
   "source": [
    "# Save to .jsonl\n",
    "with open(\"alpaca_dataset.jsonl\", \"w\", encoding=\"utf-8\") as f:\n",
    "    for entry in alpaca_data:\n",
    "        f.write(json.dumps(entry, ensure_ascii=False) + \"\\n\")\n"
   ]
  }
 ],
 "metadata": {
  "kernelspec": {
   "display_name": "finetunedexpert",
   "language": "python",
   "name": "python3"
  },
  "language_info": {
   "codemirror_mode": {
    "name": "ipython",
    "version": 3
   },
   "file_extension": ".py",
   "mimetype": "text/x-python",
   "name": "python",
   "nbconvert_exporter": "python",
   "pygments_lexer": "ipython3",
   "version": "3.10.11"
  }
 },
 "nbformat": 4,
 "nbformat_minor": 5
}
